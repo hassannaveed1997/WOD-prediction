{
 "cells": [
  {
   "cell_type": "markdown",
   "metadata": {},
   "source": [
    "# Vector Embeddings\n",
    "## Step 1: Create Vector Embeddings"
   ]
  },
  {
   "cell_type": "code",
   "execution_count": null,
   "metadata": {},
   "outputs": [],
   "source": []
  },
  {
   "cell_type": "code",
   "execution_count": 1,
   "metadata": {},
   "outputs": [
    {
     "name": "stderr",
     "output_type": "stream",
     "text": [
      "/var/folders/0p/vxx15thx5pv6_xnkf32xgpzr0000gn/T/ipykernel_37949/978391733.py:6: DeprecationWarning: \n",
      "Pyarrow will become a required dependency of pandas in the next major release of pandas (pandas 3.0),\n",
      "(to allow more performant data types, such as the Arrow string type, and better interoperability with other libraries)\n",
      "but was not found to be installed on your system.\n",
      "If this would cause problems for you,\n",
      "please provide us feedback at https://github.com/pandas-dev/pandas/issues/54466\n",
      "        \n",
      "  import pandas as pd\n"
     ]
    }
   ],
   "source": [
    "\n",
    "import json\n",
    "import difflib\n",
    "import numpy as np\n",
    "import random\n",
    "import os\n",
    "import pandas as pd\n",
    "\n",
    "# load in open AI credentials\n",
    "with open(\"../../../openai-api-key.txt\", \"r\") as file:\n",
    "    openai_api_key = file.read().strip()\n",
    "os.environ[\"OPENAI_API_KEY\"] = openai_api_key"
   ]
  },
  {
   "cell_type": "code",
   "execution_count": 2,
   "metadata": {},
   "outputs": [],
   "source": [
    "from vector_embeddings_helpers import movements, get_movement_description, get_embedding"
   ]
  },
  {
   "cell_type": "code",
   "execution_count": 3,
   "metadata": {},
   "outputs": [],
   "source": [
    "\n",
    "# embeddings = {}\n",
    "# for movement, description in movements.items():\n",
    "#     embeddings[movement] = get_embedding(description)\n",
    "\n",
    "# pd.DataFrame(embeddings).to_csv(\"../../Data/embeddings/embedding_from_descriptions.csv\")"
   ]
  },
  {
   "cell_type": "markdown",
   "metadata": {},
   "source": [
    "## Step 2: Visualization of embeddings"
   ]
  },
  {
   "cell_type": "code",
   "execution_count": 4,
   "metadata": {},
   "outputs": [
    {
     "data": {
      "text/html": [
       "<div>\n",
       "<style scoped>\n",
       "    .dataframe tbody tr th:only-of-type {\n",
       "        vertical-align: middle;\n",
       "    }\n",
       "\n",
       "    .dataframe tbody tr th {\n",
       "        vertical-align: top;\n",
       "    }\n",
       "\n",
       "    .dataframe thead th {\n",
       "        text-align: right;\n",
       "    }\n",
       "</style>\n",
       "<table border=\"1\" class=\"dataframe\">\n",
       "  <thead>\n",
       "    <tr style=\"text-align: right;\">\n",
       "      <th></th>\n",
       "      <th>clean</th>\n",
       "      <th>snatch</th>\n",
       "      <th>deadlift</th>\n",
       "      <th>back_squat</th>\n",
       "      <th>front_squat</th>\n",
       "      <th>overhead_squat</th>\n",
       "      <th>push_press</th>\n",
       "      <th>push_jerk</th>\n",
       "      <th>split_jerk</th>\n",
       "      <th>thruster</th>\n",
       "      <th>...</th>\n",
       "      <th>kipping_pull_up</th>\n",
       "      <th>ring_dip</th>\n",
       "      <th>wall_walk</th>\n",
       "      <th>wall_ball</th>\n",
       "      <th>box_jump_over</th>\n",
       "      <th>lunges</th>\n",
       "      <th>kettlebell_swing</th>\n",
       "      <th>burpee</th>\n",
       "      <th>double_under</th>\n",
       "      <th>box_jump</th>\n",
       "    </tr>\n",
       "  </thead>\n",
       "  <tbody>\n",
       "    <tr>\n",
       "      <th>0</th>\n",
       "      <td>0.041152</td>\n",
       "      <td>-0.025981</td>\n",
       "      <td>0.017582</td>\n",
       "      <td>0.050447</td>\n",
       "      <td>0.010757</td>\n",
       "      <td>0.030004</td>\n",
       "      <td>0.024694</td>\n",
       "      <td>-0.010104</td>\n",
       "      <td>0.024756</td>\n",
       "      <td>0.003977</td>\n",
       "      <td>...</td>\n",
       "      <td>-0.033922</td>\n",
       "      <td>0.023430</td>\n",
       "      <td>0.017060</td>\n",
       "      <td>-0.017233</td>\n",
       "      <td>0.003866</td>\n",
       "      <td>-0.012434</td>\n",
       "      <td>-0.023746</td>\n",
       "      <td>-0.023224</td>\n",
       "      <td>-0.011525</td>\n",
       "      <td>-0.008924</td>\n",
       "    </tr>\n",
       "    <tr>\n",
       "      <th>1</th>\n",
       "      <td>0.009787</td>\n",
       "      <td>0.006753</td>\n",
       "      <td>-0.005586</td>\n",
       "      <td>-0.009511</td>\n",
       "      <td>-0.033907</td>\n",
       "      <td>0.007549</td>\n",
       "      <td>-0.004105</td>\n",
       "      <td>0.006769</td>\n",
       "      <td>0.000607</td>\n",
       "      <td>0.009339</td>\n",
       "      <td>...</td>\n",
       "      <td>0.011656</td>\n",
       "      <td>0.059562</td>\n",
       "      <td>-0.005939</td>\n",
       "      <td>0.039273</td>\n",
       "      <td>0.021482</td>\n",
       "      <td>-0.022641</td>\n",
       "      <td>0.017123</td>\n",
       "      <td>0.009909</td>\n",
       "      <td>0.010399</td>\n",
       "      <td>0.026229</td>\n",
       "    </tr>\n",
       "    <tr>\n",
       "      <th>2</th>\n",
       "      <td>-0.019326</td>\n",
       "      <td>-0.045975</td>\n",
       "      <td>0.026357</td>\n",
       "      <td>0.049158</td>\n",
       "      <td>0.006833</td>\n",
       "      <td>0.039293</td>\n",
       "      <td>0.009222</td>\n",
       "      <td>-0.030855</td>\n",
       "      <td>-0.001933</td>\n",
       "      <td>0.005502</td>\n",
       "      <td>...</td>\n",
       "      <td>-0.035733</td>\n",
       "      <td>0.005801</td>\n",
       "      <td>0.022315</td>\n",
       "      <td>0.052141</td>\n",
       "      <td>0.019159</td>\n",
       "      <td>0.062663</td>\n",
       "      <td>0.023880</td>\n",
       "      <td>0.016806</td>\n",
       "      <td>0.004936</td>\n",
       "      <td>0.035292</td>\n",
       "    </tr>\n",
       "    <tr>\n",
       "      <th>3</th>\n",
       "      <td>0.002076</td>\n",
       "      <td>-0.034098</td>\n",
       "      <td>-0.005702</td>\n",
       "      <td>-0.001891</td>\n",
       "      <td>0.038054</td>\n",
       "      <td>-0.002372</td>\n",
       "      <td>-0.005936</td>\n",
       "      <td>0.002314</td>\n",
       "      <td>-0.023827</td>\n",
       "      <td>-0.006117</td>\n",
       "      <td>...</td>\n",
       "      <td>0.015057</td>\n",
       "      <td>0.032507</td>\n",
       "      <td>0.013455</td>\n",
       "      <td>0.017030</td>\n",
       "      <td>0.000278</td>\n",
       "      <td>-0.022329</td>\n",
       "      <td>0.000110</td>\n",
       "      <td>0.022869</td>\n",
       "      <td>-0.020638</td>\n",
       "      <td>0.001192</td>\n",
       "    </tr>\n",
       "    <tr>\n",
       "      <th>4</th>\n",
       "      <td>-0.003474</td>\n",
       "      <td>0.003188</td>\n",
       "      <td>0.005829</td>\n",
       "      <td>-0.012370</td>\n",
       "      <td>0.013584</td>\n",
       "      <td>-0.028732</td>\n",
       "      <td>0.055404</td>\n",
       "      <td>0.002147</td>\n",
       "      <td>-0.062349</td>\n",
       "      <td>0.031562</td>\n",
       "      <td>...</td>\n",
       "      <td>0.042537</td>\n",
       "      <td>0.030456</td>\n",
       "      <td>-0.027619</td>\n",
       "      <td>-0.018811</td>\n",
       "      <td>0.015768</td>\n",
       "      <td>-0.004011</td>\n",
       "      <td>-0.019133</td>\n",
       "      <td>-0.032631</td>\n",
       "      <td>0.020222</td>\n",
       "      <td>0.025244</td>\n",
       "    </tr>\n",
       "  </tbody>\n",
       "</table>\n",
       "<p>5 rows × 26 columns</p>\n",
       "</div>"
      ],
      "text/plain": [
       "      clean    snatch  deadlift  back_squat  front_squat  overhead_squat  \\\n",
       "0  0.041152 -0.025981  0.017582    0.050447     0.010757        0.030004   \n",
       "1  0.009787  0.006753 -0.005586   -0.009511    -0.033907        0.007549   \n",
       "2 -0.019326 -0.045975  0.026357    0.049158     0.006833        0.039293   \n",
       "3  0.002076 -0.034098 -0.005702   -0.001891     0.038054       -0.002372   \n",
       "4 -0.003474  0.003188  0.005829   -0.012370     0.013584       -0.028732   \n",
       "\n",
       "   push_press  push_jerk  split_jerk  thruster  ...  kipping_pull_up  \\\n",
       "0    0.024694  -0.010104    0.024756  0.003977  ...        -0.033922   \n",
       "1   -0.004105   0.006769    0.000607  0.009339  ...         0.011656   \n",
       "2    0.009222  -0.030855   -0.001933  0.005502  ...        -0.035733   \n",
       "3   -0.005936   0.002314   -0.023827 -0.006117  ...         0.015057   \n",
       "4    0.055404   0.002147   -0.062349  0.031562  ...         0.042537   \n",
       "\n",
       "   ring_dip  wall_walk  wall_ball  box_jump_over    lunges  kettlebell_swing  \\\n",
       "0  0.023430   0.017060  -0.017233       0.003866 -0.012434         -0.023746   \n",
       "1  0.059562  -0.005939   0.039273       0.021482 -0.022641          0.017123   \n",
       "2  0.005801   0.022315   0.052141       0.019159  0.062663          0.023880   \n",
       "3  0.032507   0.013455   0.017030       0.000278 -0.022329          0.000110   \n",
       "4  0.030456  -0.027619  -0.018811       0.015768 -0.004011         -0.019133   \n",
       "\n",
       "     burpee  double_under  box_jump  \n",
       "0 -0.023224     -0.011525 -0.008924  \n",
       "1  0.009909      0.010399  0.026229  \n",
       "2  0.016806      0.004936  0.035292  \n",
       "3  0.022869     -0.020638  0.001192  \n",
       "4 -0.032631      0.020222  0.025244  \n",
       "\n",
       "[5 rows x 26 columns]"
      ]
     },
     "execution_count": 4,
     "metadata": {},
     "output_type": "execute_result"
    }
   ],
   "source": [
    "# use tsne to visualize the embeddings\n",
    "from sklearn.manifold import TSNE\n",
    "import matplotlib.pyplot as plt\n",
    "import plotly.express as px\n",
    "import pandas as pd\n",
    "\n",
    "embeddings = pd.read_csv(\"../../Data/embeddings/embedding_from_descriptions.csv\", index_col=0)\n",
    "embeddings_T = embeddings.T\n",
    "tsne = TSNE(n_components=2, random_state=0, perplexity=5)\n",
    "embeddings.head()"
   ]
  },
  {
   "cell_type": "code",
   "execution_count": 5,
   "metadata": {},
   "outputs": [
    {
     "data": {
      "application/vnd.plotly.v1+json": {
       "config": {
        "plotlyServerURL": "https://plot.ly"
       },
       "data": [
        {
         "hovertemplate": "<b>%{hovertext}</b><br><br>t-SNE Component 1=%{x}<br>t-SNE Component 2=%{y}<br>movement_name=%{text}<extra></extra>",
         "hovertext": [
          "clean",
          "snatch",
          "deadlift",
          "back_squat",
          "front_squat",
          "overhead_squat",
          "push_press",
          "push_jerk",
          "split_jerk",
          "thruster",
          "pull_up",
          "toes_to_bar",
          "bar_muscle_up",
          "ring_muscle_up",
          "handstand_push_up",
          "pistol_squat",
          "kipping_pull_up",
          "ring_dip",
          "wall_walk",
          "wall_ball",
          "box_jump_over",
          "lunges",
          "kettlebell_swing",
          "burpee",
          "double_under",
          "box_jump"
         ],
         "legendgroup": "",
         "marker": {
          "color": "#636efa",
          "opacity": 0.5,
          "size": 10,
          "symbol": "circle"
         },
         "mode": "markers+text",
         "name": "",
         "orientation": "v",
         "showlegend": false,
         "text": [
          "clean",
          "snatch",
          "deadlift",
          "back_squat",
          "front_squat",
          "overhead_squat",
          "push_press",
          "push_jerk",
          "split_jerk",
          "thruster",
          "pull_up",
          "toes_to_bar",
          "bar_muscle_up",
          "ring_muscle_up",
          "handstand_push_up",
          "pistol_squat",
          "kipping_pull_up",
          "ring_dip",
          "wall_walk",
          "wall_ball",
          "box_jump_over",
          "lunges",
          "kettlebell_swing",
          "burpee",
          "double_under",
          "box_jump"
         ],
         "type": "scatter",
         "x": [
          31.971508026123047,
          26.42075538635254,
          101.44773864746094,
          84.34489440917969,
          77.45940399169922,
          64.68698120117188,
          -3.1051619052886963,
          8.651504516601562,
          -0.892755925655365,
          25.51125144958496,
          -46.50444030761719,
          -56.76823425292969,
          -74.18650817871094,
          -89.96305084228516,
          -32.77977752685547,
          86.56306457519531,
          -62.029991149902344,
          -107.59369659423828,
          -79.98644256591797,
          -91.49683380126953,
          3.0073509216308594,
          93.1473159790039,
          -82.21794128417969,
          -18.97880744934082,
          -23.288888931274414,
          6.017024517059326
         ],
         "xaxis": "x",
         "y": [
          -58.42660903930664,
          -35.764713287353516,
          -2.0076568126678467,
          -0.5034388303756714,
          -18.656309127807617,
          -1.8198238611221313,
          -6.670408248901367,
          -25.185775756835938,
          -38.323978424072266,
          -9.774436950683594,
          -12.898789405822754,
          -77.14493560791016,
          -63.200626373291016,
          -60.38484191894531,
          27.564584732055664,
          33.558868408203125,
          -14.946691513061523,
          -57.93190002441406,
          59.14385223388672,
          67.05372619628906,
          77.01212310791016,
          48.253910064697266,
          1.6709465980529785,
          49.49874496459961,
          78.19706726074219,
          63.60704803466797
         ],
         "yaxis": "y"
        }
       ],
       "layout": {
        "legend": {
         "tracegroupgap": 0
        },
        "template": {
         "data": {
          "bar": [
           {
            "error_x": {
             "color": "#2a3f5f"
            },
            "error_y": {
             "color": "#2a3f5f"
            },
            "marker": {
             "line": {
              "color": "#E5ECF6",
              "width": 0.5
             },
             "pattern": {
              "fillmode": "overlay",
              "size": 10,
              "solidity": 0.2
             }
            },
            "type": "bar"
           }
          ],
          "barpolar": [
           {
            "marker": {
             "line": {
              "color": "#E5ECF6",
              "width": 0.5
             },
             "pattern": {
              "fillmode": "overlay",
              "size": 10,
              "solidity": 0.2
             }
            },
            "type": "barpolar"
           }
          ],
          "carpet": [
           {
            "aaxis": {
             "endlinecolor": "#2a3f5f",
             "gridcolor": "white",
             "linecolor": "white",
             "minorgridcolor": "white",
             "startlinecolor": "#2a3f5f"
            },
            "baxis": {
             "endlinecolor": "#2a3f5f",
             "gridcolor": "white",
             "linecolor": "white",
             "minorgridcolor": "white",
             "startlinecolor": "#2a3f5f"
            },
            "type": "carpet"
           }
          ],
          "choropleth": [
           {
            "colorbar": {
             "outlinewidth": 0,
             "ticks": ""
            },
            "type": "choropleth"
           }
          ],
          "contour": [
           {
            "colorbar": {
             "outlinewidth": 0,
             "ticks": ""
            },
            "colorscale": [
             [
              0,
              "#0d0887"
             ],
             [
              0.1111111111111111,
              "#46039f"
             ],
             [
              0.2222222222222222,
              "#7201a8"
             ],
             [
              0.3333333333333333,
              "#9c179e"
             ],
             [
              0.4444444444444444,
              "#bd3786"
             ],
             [
              0.5555555555555556,
              "#d8576b"
             ],
             [
              0.6666666666666666,
              "#ed7953"
             ],
             [
              0.7777777777777778,
              "#fb9f3a"
             ],
             [
              0.8888888888888888,
              "#fdca26"
             ],
             [
              1,
              "#f0f921"
             ]
            ],
            "type": "contour"
           }
          ],
          "contourcarpet": [
           {
            "colorbar": {
             "outlinewidth": 0,
             "ticks": ""
            },
            "type": "contourcarpet"
           }
          ],
          "heatmap": [
           {
            "colorbar": {
             "outlinewidth": 0,
             "ticks": ""
            },
            "colorscale": [
             [
              0,
              "#0d0887"
             ],
             [
              0.1111111111111111,
              "#46039f"
             ],
             [
              0.2222222222222222,
              "#7201a8"
             ],
             [
              0.3333333333333333,
              "#9c179e"
             ],
             [
              0.4444444444444444,
              "#bd3786"
             ],
             [
              0.5555555555555556,
              "#d8576b"
             ],
             [
              0.6666666666666666,
              "#ed7953"
             ],
             [
              0.7777777777777778,
              "#fb9f3a"
             ],
             [
              0.8888888888888888,
              "#fdca26"
             ],
             [
              1,
              "#f0f921"
             ]
            ],
            "type": "heatmap"
           }
          ],
          "heatmapgl": [
           {
            "colorbar": {
             "outlinewidth": 0,
             "ticks": ""
            },
            "colorscale": [
             [
              0,
              "#0d0887"
             ],
             [
              0.1111111111111111,
              "#46039f"
             ],
             [
              0.2222222222222222,
              "#7201a8"
             ],
             [
              0.3333333333333333,
              "#9c179e"
             ],
             [
              0.4444444444444444,
              "#bd3786"
             ],
             [
              0.5555555555555556,
              "#d8576b"
             ],
             [
              0.6666666666666666,
              "#ed7953"
             ],
             [
              0.7777777777777778,
              "#fb9f3a"
             ],
             [
              0.8888888888888888,
              "#fdca26"
             ],
             [
              1,
              "#f0f921"
             ]
            ],
            "type": "heatmapgl"
           }
          ],
          "histogram": [
           {
            "marker": {
             "pattern": {
              "fillmode": "overlay",
              "size": 10,
              "solidity": 0.2
             }
            },
            "type": "histogram"
           }
          ],
          "histogram2d": [
           {
            "colorbar": {
             "outlinewidth": 0,
             "ticks": ""
            },
            "colorscale": [
             [
              0,
              "#0d0887"
             ],
             [
              0.1111111111111111,
              "#46039f"
             ],
             [
              0.2222222222222222,
              "#7201a8"
             ],
             [
              0.3333333333333333,
              "#9c179e"
             ],
             [
              0.4444444444444444,
              "#bd3786"
             ],
             [
              0.5555555555555556,
              "#d8576b"
             ],
             [
              0.6666666666666666,
              "#ed7953"
             ],
             [
              0.7777777777777778,
              "#fb9f3a"
             ],
             [
              0.8888888888888888,
              "#fdca26"
             ],
             [
              1,
              "#f0f921"
             ]
            ],
            "type": "histogram2d"
           }
          ],
          "histogram2dcontour": [
           {
            "colorbar": {
             "outlinewidth": 0,
             "ticks": ""
            },
            "colorscale": [
             [
              0,
              "#0d0887"
             ],
             [
              0.1111111111111111,
              "#46039f"
             ],
             [
              0.2222222222222222,
              "#7201a8"
             ],
             [
              0.3333333333333333,
              "#9c179e"
             ],
             [
              0.4444444444444444,
              "#bd3786"
             ],
             [
              0.5555555555555556,
              "#d8576b"
             ],
             [
              0.6666666666666666,
              "#ed7953"
             ],
             [
              0.7777777777777778,
              "#fb9f3a"
             ],
             [
              0.8888888888888888,
              "#fdca26"
             ],
             [
              1,
              "#f0f921"
             ]
            ],
            "type": "histogram2dcontour"
           }
          ],
          "mesh3d": [
           {
            "colorbar": {
             "outlinewidth": 0,
             "ticks": ""
            },
            "type": "mesh3d"
           }
          ],
          "parcoords": [
           {
            "line": {
             "colorbar": {
              "outlinewidth": 0,
              "ticks": ""
             }
            },
            "type": "parcoords"
           }
          ],
          "pie": [
           {
            "automargin": true,
            "type": "pie"
           }
          ],
          "scatter": [
           {
            "fillpattern": {
             "fillmode": "overlay",
             "size": 10,
             "solidity": 0.2
            },
            "type": "scatter"
           }
          ],
          "scatter3d": [
           {
            "line": {
             "colorbar": {
              "outlinewidth": 0,
              "ticks": ""
             }
            },
            "marker": {
             "colorbar": {
              "outlinewidth": 0,
              "ticks": ""
             }
            },
            "type": "scatter3d"
           }
          ],
          "scattercarpet": [
           {
            "marker": {
             "colorbar": {
              "outlinewidth": 0,
              "ticks": ""
             }
            },
            "type": "scattercarpet"
           }
          ],
          "scattergeo": [
           {
            "marker": {
             "colorbar": {
              "outlinewidth": 0,
              "ticks": ""
             }
            },
            "type": "scattergeo"
           }
          ],
          "scattergl": [
           {
            "marker": {
             "colorbar": {
              "outlinewidth": 0,
              "ticks": ""
             }
            },
            "type": "scattergl"
           }
          ],
          "scattermapbox": [
           {
            "marker": {
             "colorbar": {
              "outlinewidth": 0,
              "ticks": ""
             }
            },
            "type": "scattermapbox"
           }
          ],
          "scatterpolar": [
           {
            "marker": {
             "colorbar": {
              "outlinewidth": 0,
              "ticks": ""
             }
            },
            "type": "scatterpolar"
           }
          ],
          "scatterpolargl": [
           {
            "marker": {
             "colorbar": {
              "outlinewidth": 0,
              "ticks": ""
             }
            },
            "type": "scatterpolargl"
           }
          ],
          "scatterternary": [
           {
            "marker": {
             "colorbar": {
              "outlinewidth": 0,
              "ticks": ""
             }
            },
            "type": "scatterternary"
           }
          ],
          "surface": [
           {
            "colorbar": {
             "outlinewidth": 0,
             "ticks": ""
            },
            "colorscale": [
             [
              0,
              "#0d0887"
             ],
             [
              0.1111111111111111,
              "#46039f"
             ],
             [
              0.2222222222222222,
              "#7201a8"
             ],
             [
              0.3333333333333333,
              "#9c179e"
             ],
             [
              0.4444444444444444,
              "#bd3786"
             ],
             [
              0.5555555555555556,
              "#d8576b"
             ],
             [
              0.6666666666666666,
              "#ed7953"
             ],
             [
              0.7777777777777778,
              "#fb9f3a"
             ],
             [
              0.8888888888888888,
              "#fdca26"
             ],
             [
              1,
              "#f0f921"
             ]
            ],
            "type": "surface"
           }
          ],
          "table": [
           {
            "cells": {
             "fill": {
              "color": "#EBF0F8"
             },
             "line": {
              "color": "white"
             }
            },
            "header": {
             "fill": {
              "color": "#C8D4E3"
             },
             "line": {
              "color": "white"
             }
            },
            "type": "table"
           }
          ]
         },
         "layout": {
          "annotationdefaults": {
           "arrowcolor": "#2a3f5f",
           "arrowhead": 0,
           "arrowwidth": 1
          },
          "autotypenumbers": "strict",
          "coloraxis": {
           "colorbar": {
            "outlinewidth": 0,
            "ticks": ""
           }
          },
          "colorscale": {
           "diverging": [
            [
             0,
             "#8e0152"
            ],
            [
             0.1,
             "#c51b7d"
            ],
            [
             0.2,
             "#de77ae"
            ],
            [
             0.3,
             "#f1b6da"
            ],
            [
             0.4,
             "#fde0ef"
            ],
            [
             0.5,
             "#f7f7f7"
            ],
            [
             0.6,
             "#e6f5d0"
            ],
            [
             0.7,
             "#b8e186"
            ],
            [
             0.8,
             "#7fbc41"
            ],
            [
             0.9,
             "#4d9221"
            ],
            [
             1,
             "#276419"
            ]
           ],
           "sequential": [
            [
             0,
             "#0d0887"
            ],
            [
             0.1111111111111111,
             "#46039f"
            ],
            [
             0.2222222222222222,
             "#7201a8"
            ],
            [
             0.3333333333333333,
             "#9c179e"
            ],
            [
             0.4444444444444444,
             "#bd3786"
            ],
            [
             0.5555555555555556,
             "#d8576b"
            ],
            [
             0.6666666666666666,
             "#ed7953"
            ],
            [
             0.7777777777777778,
             "#fb9f3a"
            ],
            [
             0.8888888888888888,
             "#fdca26"
            ],
            [
             1,
             "#f0f921"
            ]
           ],
           "sequentialminus": [
            [
             0,
             "#0d0887"
            ],
            [
             0.1111111111111111,
             "#46039f"
            ],
            [
             0.2222222222222222,
             "#7201a8"
            ],
            [
             0.3333333333333333,
             "#9c179e"
            ],
            [
             0.4444444444444444,
             "#bd3786"
            ],
            [
             0.5555555555555556,
             "#d8576b"
            ],
            [
             0.6666666666666666,
             "#ed7953"
            ],
            [
             0.7777777777777778,
             "#fb9f3a"
            ],
            [
             0.8888888888888888,
             "#fdca26"
            ],
            [
             1,
             "#f0f921"
            ]
           ]
          },
          "colorway": [
           "#636efa",
           "#EF553B",
           "#00cc96",
           "#ab63fa",
           "#FFA15A",
           "#19d3f3",
           "#FF6692",
           "#B6E880",
           "#FF97FF",
           "#FECB52"
          ],
          "font": {
           "color": "#2a3f5f"
          },
          "geo": {
           "bgcolor": "white",
           "lakecolor": "white",
           "landcolor": "#E5ECF6",
           "showlakes": true,
           "showland": true,
           "subunitcolor": "white"
          },
          "hoverlabel": {
           "align": "left"
          },
          "hovermode": "closest",
          "mapbox": {
           "style": "light"
          },
          "paper_bgcolor": "white",
          "plot_bgcolor": "#E5ECF6",
          "polar": {
           "angularaxis": {
            "gridcolor": "white",
            "linecolor": "white",
            "ticks": ""
           },
           "bgcolor": "#E5ECF6",
           "radialaxis": {
            "gridcolor": "white",
            "linecolor": "white",
            "ticks": ""
           }
          },
          "scene": {
           "xaxis": {
            "backgroundcolor": "#E5ECF6",
            "gridcolor": "white",
            "gridwidth": 2,
            "linecolor": "white",
            "showbackground": true,
            "ticks": "",
            "zerolinecolor": "white"
           },
           "yaxis": {
            "backgroundcolor": "#E5ECF6",
            "gridcolor": "white",
            "gridwidth": 2,
            "linecolor": "white",
            "showbackground": true,
            "ticks": "",
            "zerolinecolor": "white"
           },
           "zaxis": {
            "backgroundcolor": "#E5ECF6",
            "gridcolor": "white",
            "gridwidth": 2,
            "linecolor": "white",
            "showbackground": true,
            "ticks": "",
            "zerolinecolor": "white"
           }
          },
          "shapedefaults": {
           "line": {
            "color": "#2a3f5f"
           }
          },
          "ternary": {
           "aaxis": {
            "gridcolor": "white",
            "linecolor": "white",
            "ticks": ""
           },
           "baxis": {
            "gridcolor": "white",
            "linecolor": "white",
            "ticks": ""
           },
           "bgcolor": "#E5ECF6",
           "caxis": {
            "gridcolor": "white",
            "linecolor": "white",
            "ticks": ""
           }
          },
          "title": {
           "x": 0.05
          },
          "xaxis": {
           "automargin": true,
           "gridcolor": "white",
           "linecolor": "white",
           "ticks": "",
           "title": {
            "standoff": 15
           },
           "zerolinecolor": "white",
           "zerolinewidth": 2
          },
          "yaxis": {
           "automargin": true,
           "gridcolor": "white",
           "linecolor": "white",
           "ticks": "",
           "title": {
            "standoff": 15
           },
           "zerolinecolor": "white",
           "zerolinewidth": 2
          }
         }
        },
        "title": {
         "text": "t-SNE Visualization of Movement Embeddings"
        },
        "xaxis": {
         "anchor": "y",
         "domain": [
          0,
          1
         ],
         "showgrid": true,
         "title": {
          "text": "t-SNE Component 1"
         }
        },
        "yaxis": {
         "anchor": "x",
         "domain": [
          0,
          1
         ],
         "showgrid": true,
         "title": {
          "text": "t-SNE Component 2"
         }
        }
       }
      }
     },
     "metadata": {},
     "output_type": "display_data"
    }
   ],
   "source": [
    "embeddings_2d = tsne.fit_transform(embeddings_T)\n",
    "\n",
    "# Create a DataFrame for the 2D embeddings\n",
    "df_2d = pd.DataFrame(embeddings_2d, columns=['tsne_1', 'tsne_2'])\n",
    "\n",
    "# Add passage names to the DataFrame\n",
    "df_2d['movement_name'] = embeddings.columns \n",
    "\n",
    "# Plot t-SNE visualization with labels using Plotly\n",
    "fig = px.scatter(df_2d, x='tsne_1', y='tsne_2', text='movement_name', \n",
    "                 title='t-SNE Visualization of Movement Embeddings', \n",
    "                 labels={'tsne_1': 't-SNE Component 1', 'tsne_2': 't-SNE Component 2'},\n",
    "                 opacity=0.5, hover_name='movement_name'\n",
    "                 )\n",
    "\n",
    "# Customize layout\n",
    "fig.update_traces(marker=dict(size=10))\n",
    "fig.update_layout(xaxis=dict(showgrid=True, title='t-SNE Component 1'),\n",
    "                  yaxis=dict(showgrid=True, title='t-SNE Component 2'))\n",
    "\n",
    "# Show the plot\n",
    "fig.show()"
   ]
  },
  {
   "cell_type": "code",
   "execution_count": null,
   "metadata": {},
   "outputs": [],
   "source": []
  },
  {
   "cell_type": "code",
   "execution_count": null,
   "metadata": {},
   "outputs": [],
   "source": []
  },
  {
   "cell_type": "code",
   "execution_count": null,
   "metadata": {},
   "outputs": [],
   "source": []
  }
 ],
 "metadata": {
  "kernelspec": {
   "display_name": "wod_project",
   "language": "python",
   "name": "python3"
  },
  "language_info": {
   "codemirror_mode": {
    "name": "ipython",
    "version": 3
   },
   "file_extension": ".py",
   "mimetype": "text/x-python",
   "name": "python",
   "nbconvert_exporter": "python",
   "pygments_lexer": "ipython3",
   "version": "3.12.1"
  }
 },
 "nbformat": 4,
 "nbformat_minor": 2
}
