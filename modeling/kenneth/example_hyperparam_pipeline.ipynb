{
 "cells": [
  {
   "cell_type": "code",
   "execution_count": 1,
   "metadata": {},
   "outputs": [],
   "source": [
    "import warnings\n",
    "import wod_predictor\n",
    "from wod_predictor.data_loader import DataLoader\n",
    "from wod_predictor.splitter import DataSplitter\n",
    "from wod_predictor.preprocessor import DataPreprocessor \n",
    "from wod_predictor.modeling import RandomForestModel\n",
    "from wod_predictor.models.hyperparam_search import HyperparamTuner, ParamRange"
   ]
  },
  {
   "cell_type": "code",
   "execution_count": 2,
   "metadata": {},
   "outputs": [],
   "source": [
    "warnings.filterwarnings('ignore')"
   ]
  },
  {
   "cell_type": "code",
   "execution_count": 3,
   "metadata": {},
   "outputs": [],
   "source": [
    "data_path = wod_predictor.__path__[0].replace(\"wod_predictor\", \"Data\")\n",
    "loader = DataLoader(root_path = data_path, objects= ['open_results','descriptions','benchmark_stats',  'athlete_info'])\n",
    "data = loader.load()"
   ]
  },
  {
   "cell_type": "code",
   "execution_count": 4,
   "metadata": {},
   "outputs": [],
   "source": [
    "splitter = DataSplitter(sample = 20000, test_ratio = 0.2, test_filter='23.*')\n",
    "train_data, test_data = splitter.split(data)"
   ]
  },
  {
   "cell_type": "code",
   "execution_count": 5,
   "metadata": {},
   "outputs": [],
   "source": [
    "all_configs = {\n",
    "    'preprocessing': {\n",
    "        'open_results': {\n",
    "            'scale_up': True,\n",
    "            'scale_args': {\n",
    "                \"method\": \"general\",\n",
    "                \"scaler_name\": \"StandardScaler\"\n",
    "            }\n",
    "        },\n",
    "        'benchmark_stats': {\n",
    "            'remove_outliers': True,\n",
    "            'missing_method': 'zero',\n",
    "            'drop_missing_threshold': 0.9,\n",
    "            'scale_args': {\n",
    "                \"method\": \"general\",\n",
    "                \"scaler_name\": \"StandardScaler\"\n",
    "            }\n",
    "        },\n",
    "        'athlete_info': {}\n",
    "    },\n",
    "    'model': {\n",
    "        'n_estimators': 10,  # Number of trees\n",
    "    },\n",
    "}"
   ]
  },
  {
   "cell_type": "code",
   "execution_count": 6,
   "metadata": {},
   "outputs": [],
   "source": [
    "preprocessor = DataPreprocessor(config=all_configs['preprocessing'])\n",
    "preprocessor.fit(data=train_data)"
   ]
  },
  {
   "cell_type": "code",
   "execution_count": 7,
   "metadata": {},
   "outputs": [
    {
     "name": "stdout",
     "output_type": "stream",
     "text": [
      "Converted height to height in imperial units\n",
      "Converted weight to weight in imperial units\n",
      "Converted height to height in imperial units\n",
      "Converted weight to weight in imperial units\n"
     ]
    }
   ],
   "source": [
    "train_preprocessed = preprocessor.transform(data=train_data)\n",
    "test_preprocessed = preprocessor.transform(data=test_data)"
   ]
  },
  {
   "cell_type": "code",
   "execution_count": 8,
   "metadata": {},
   "outputs": [],
   "source": [
    "rf_modeler = RandomForestModel(config={}, **all_configs['model'])\n",
    "rf_modeler.fit(X = train_preprocessed['X'], y = train_preprocessed['y'])"
   ]
  },
  {
   "cell_type": "code",
   "execution_count": 9,
   "metadata": {},
   "outputs": [
    {
     "name": "stdout",
     "output_type": "stream",
     "text": [
      "Mean Absolute Error: 0.52\n",
      "Mean Absolute Percentage Error: 2.06\n"
     ]
    },
    {
     "data": {
      "text/html": [
       "<div>\n",
       "<style scoped>\n",
       "    .dataframe tbody tr th:only-of-type {\n",
       "        vertical-align: middle;\n",
       "    }\n",
       "\n",
       "    .dataframe tbody tr th {\n",
       "        vertical-align: top;\n",
       "    }\n",
       "\n",
       "    .dataframe thead th {\n",
       "        text-align: right;\n",
       "    }\n",
       "</style>\n",
       "<table border=\"1\" class=\"dataframe\">\n",
       "  <thead>\n",
       "    <tr style=\"text-align: right;\">\n",
       "      <th></th>\n",
       "      <th>y_test_mean</th>\n",
       "      <th>y_pred_mean</th>\n",
       "      <th>error_mean</th>\n",
       "      <th>error_percentage</th>\n",
       "    </tr>\n",
       "  </thead>\n",
       "  <tbody>\n",
       "    <tr>\n",
       "      <th>23.1</th>\n",
       "      <td>185.562799</td>\n",
       "      <td>185.717542</td>\n",
       "      <td>7.917966</td>\n",
       "      <td>4.267001</td>\n",
       "    </tr>\n",
       "    <tr>\n",
       "      <th>23.1_scaled</th>\n",
       "      <td>235.666667</td>\n",
       "      <td>229.124071</td>\n",
       "      <td>26.852917</td>\n",
       "      <td>11.394448</td>\n",
       "    </tr>\n",
       "    <tr>\n",
       "      <th>23.2A</th>\n",
       "      <td>132.398850</td>\n",
       "      <td>132.353004</td>\n",
       "      <td>11.435362</td>\n",
       "      <td>8.637055</td>\n",
       "    </tr>\n",
       "    <tr>\n",
       "      <th>23.2B</th>\n",
       "      <td>207.339335</td>\n",
       "      <td>207.982797</td>\n",
       "      <td>18.574693</td>\n",
       "      <td>8.958596</td>\n",
       "    </tr>\n",
       "    <tr>\n",
       "      <th>23.3</th>\n",
       "      <td>25.174512</td>\n",
       "      <td>26.043498</td>\n",
       "      <td>7.291517</td>\n",
       "      <td>28.963888</td>\n",
       "    </tr>\n",
       "    <tr>\n",
       "      <th>23.3_scaled</th>\n",
       "      <td>10.894695</td>\n",
       "      <td>11.103557</td>\n",
       "      <td>2.061102</td>\n",
       "      <td>18.918399</td>\n",
       "    </tr>\n",
       "  </tbody>\n",
       "</table>\n",
       "</div>"
      ],
      "text/plain": [
       "             y_test_mean  y_pred_mean  error_mean  error_percentage\n",
       "23.1          185.562799   185.717542    7.917966          4.267001\n",
       "23.1_scaled   235.666667   229.124071   26.852917         11.394448\n",
       "23.2A         132.398850   132.353004   11.435362          8.637055\n",
       "23.2B         207.339335   207.982797   18.574693          8.958596\n",
       "23.3           25.174512    26.043498    7.291517         28.963888\n",
       "23.3_scaled    10.894695    11.103557    2.061102         18.918399"
      ]
     },
     "metadata": {},
     "output_type": "display_data"
    }
   ],
   "source": [
    "rf_modeler.predict(X = test_preprocessed['X'])\n",
    "rf_modeler.show_results(y_test = test_preprocessed['y'], meta_data = test_preprocessed['meta_data'])"
   ]
  },
  {
   "attachments": {},
   "cell_type": "markdown",
   "metadata": {},
   "source": [
    "## Hyperparameter tuning (Model Only)"
   ]
  },
  {
   "cell_type": "code",
   "execution_count": 10,
   "metadata": {},
   "outputs": [],
   "source": [
    "all_configs['data'] = {\n",
    "    'train_data': train_preprocessed,\n",
    "    'val_data': test_preprocessed,\n",
    "}"
   ]
  },
  {
   "cell_type": "code",
   "execution_count": 11,
   "metadata": {},
   "outputs": [],
   "source": [
    "from time import time\n",
    "from copy import deepcopy\n",
    "from sklearn.metrics import mean_absolute_error\n",
    "\n",
    "def custom_objective(config):\n",
    "    model_params = deepcopy(config['model'])\n",
    "    data = deepcopy(config['data'])\n",
    "    train_data = data['train_data']\n",
    "    val_data = data['val_data']\n",
    "\n",
    "    rf_modeler = RandomForestModel(config={}, **model_params)\n",
    "    rf_modeler.fit(X = train_data['X'], y = train_data['y'])\n",
    "\n",
    "    y_pred = rf_modeler.predict(X = val_data['X'])\n",
    "    score = mean_absolute_error(val_data['y'], y_pred)    \n",
    "    return score  # Return the metric to optimize"
   ]
  },
  {
   "cell_type": "code",
   "execution_count": 12,
   "metadata": {},
   "outputs": [
    {
     "data": {
      "text/plain": [
       "0.5222696687181619"
      ]
     },
     "execution_count": 12,
     "metadata": {},
     "output_type": "execute_result"
    }
   ],
   "source": [
    "# Default\n",
    "custom_objective(all_configs)"
   ]
  },
  {
   "cell_type": "code",
   "execution_count": 15,
   "metadata": {},
   "outputs": [],
   "source": [
    "# Define parameter ranges for optimization\n",
    "param_ranges = {\n",
    "    \"n_estimators\": ParamRange(param_type=\"int\", low=10, high=500, log=True, path=[\"model\", \"n_estimators\"]),\n",
    "\n",
    "    \"max_depth\": ParamRange(param_type=\"int\", low=3, high=30, path=[\"model\", \"max_depth\"]),\n",
    "\n",
    "    \"min_samples_split\": ParamRange(param_type=\"int\", low=2, high=20, path=[\"model\", \"min_samples_split\"]),\n",
    "\n",
    "    \"min_samples_leaf\": ParamRange(param_type=\"int\", low=1, high=10, path=[\"model\", \"min_samples_leaf\"]),\n",
    "}"
   ]
  },
  {
   "cell_type": "code",
   "execution_count": 16,
   "metadata": {},
   "outputs": [
    {
     "name": "stderr",
     "output_type": "stream",
     "text": [
      "INFO:wod_predictor.models.hyperparam_search:Start hyperparameter optimization for 20 trials\n",
      "[I 2024-11-09 10:22:27,480] A new study created in memory with name: no-name-6ec35b12-80db-4828-a5b6-8b077b84c532\n",
      "[I 2024-11-09 10:24:16,309] Trial 0 finished with value: 0.4903056197324229 and parameters: {'n_estimators': 42, 'max_depth': 29, 'min_samples_split': 15, 'min_samples_leaf': 6}. Best is trial 0 with value: 0.4903056197324229.\n",
      "INFO:wod_predictor.models.hyperparam_search:Trial 0 finished with metric = 0.4903056197324229\n",
      "[I 2024-11-09 10:24:32,122] Trial 1 finished with value: 0.5234392820636259 and parameters: {'n_estimators': 18, 'max_depth': 7, 'min_samples_split': 3, 'min_samples_leaf': 9}. Best is trial 0 with value: 0.4903056197324229.\n",
      "[I 2024-11-09 10:28:19,745] Trial 2 finished with value: 0.48725147192338364 and parameters: {'n_estimators': 103, 'max_depth': 22, 'min_samples_split': 2, 'min_samples_leaf': 10}. Best is trial 2 with value: 0.48725147192338364.\n",
      "[I 2024-11-09 10:32:38,471] Trial 3 finished with value: 0.5172159244491632 and parameters: {'n_estimators': 258, 'max_depth': 8, 'min_samples_split': 5, 'min_samples_leaf': 2}. Best is trial 2 with value: 0.48725147192338364.\n",
      "[I 2024-11-09 10:33:39,075] Trial 4 finished with value: 0.4903332680067213 and parameters: {'n_estimators': 32, 'max_depth': 17, 'min_samples_split': 10, 'min_samples_leaf': 3}. Best is trial 2 with value: 0.48725147192338364.\n",
      "[I 2024-11-09 10:34:59,604] Trial 5 finished with value: 0.5307076195539028 and parameters: {'n_estimators': 107, 'max_depth': 6, 'min_samples_split': 7, 'min_samples_leaf': 4}. Best is trial 2 with value: 0.48725147192338364.\n",
      "[I 2024-11-09 10:37:18,525] Trial 6 finished with value: 0.48995531238125645 and parameters: {'n_estimators': 58, 'max_depth': 24, 'min_samples_split': 5, 'min_samples_leaf': 6}. Best is trial 2 with value: 0.48725147192338364.\n",
      "[I 2024-11-09 10:38:08,807] Trial 7 finished with value: 0.5462281264241865 and parameters: {'n_estimators': 99, 'max_depth': 4, 'min_samples_split': 13, 'min_samples_leaf': 2}. Best is trial 2 with value: 0.48725147192338364.\n",
      "[I 2024-11-09 10:38:39,668] Trial 8 finished with value: 0.4941045302593738 and parameters: {'n_estimators': 12, 'max_depth': 29, 'min_samples_split': 20, 'min_samples_leaf': 9}. Best is trial 2 with value: 0.48725147192338364.\n",
      "[I 2024-11-09 10:38:59,858] Trial 9 finished with value: 0.5395324358068161 and parameters: {'n_estimators': 32, 'max_depth': 5, 'min_samples_split': 15, 'min_samples_leaf': 5}. Best is trial 2 with value: 0.48725147192338364.\n",
      "[I 2024-11-09 10:52:29,230] Trial 10 finished with value: 0.4876271671351682 and parameters: {'n_estimators': 417, 'max_depth': 18, 'min_samples_split': 2, 'min_samples_leaf': 10}. Best is trial 2 with value: 0.48725147192338364.\n",
      "INFO:wod_predictor.models.hyperparam_search:Trial 10 finished with metric = 0.4876271671351682\n"
     ]
    }
   ],
   "source": [
    "tuner = HyperparamTuner(\n",
    "    objective_fn=custom_objective,\n",
    "    param_ranges=param_ranges,\n",
    "    base_config=all_configs,\n",
    "    n_trials=20\n",
    ")\n",
    "final_config = tuner.optimize()"
   ]
  },
  {
   "cell_type": "code",
   "execution_count": null,
   "metadata": {},
   "outputs": [
    {
     "data": {
      "text/plain": [
       "{'n_estimators': 10,\n",
       " 'max_depth': 30,\n",
       " 'min_samples_split': 17,\n",
       " 'min_samples_leaf': 3,\n",
       " 'max_features': None,\n",
       " 'bootstrap': True,\n",
       " 'ccp_alpha': 0.1955370866274525}"
      ]
     },
     "execution_count": 20,
     "metadata": {},
     "output_type": "execute_result"
    }
   ],
   "source": [
    "final_config['model']"
   ]
  },
  {
   "cell_type": "code",
   "execution_count": null,
   "metadata": {},
   "outputs": [],
   "source": []
  }
 ],
 "metadata": {
  "kernelspec": {
   "display_name": "Python 3",
   "language": "python",
   "name": "python3"
  },
  "language_info": {
   "codemirror_mode": {
    "name": "ipython",
    "version": 3
   },
   "file_extension": ".py",
   "mimetype": "text/x-python",
   "name": "python",
   "nbconvert_exporter": "python",
   "pygments_lexer": "ipython3",
   "version": "3.10.0"
  },
  "orig_nbformat": 4
 },
 "nbformat": 4,
 "nbformat_minor": 2
}
