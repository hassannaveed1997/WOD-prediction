{
 "cells": [
  {
   "cell_type": "code",
   "execution_count": 1,
   "metadata": {},
   "outputs": [],
   "source": [
    "import pipeline_objects\n",
    "from pipeline_objects.data_loader import DataLoader\n",
    "from pipeline_objects.preprocessor import DataPreprocessor\n",
    "from pipeline_objects.modeling import RandomForestModel\n"
   ]
  },
  {
   "cell_type": "code",
   "execution_count": 2,
   "metadata": {},
   "outputs": [
    {
     "name": "stderr",
     "output_type": "stream",
     "text": [
      "/Users/hassan/Documents/wod-prediction/WOD-prediction/pipeline_objects/data_loader.py:22: DtypeWarning: Columns (2,3,4,5) have mixed types. Specify dtype option on import or set low_memory=False.\n",
      "  df = pd.read_csv(os.path.join(self.root_path, file))\n",
      "/Users/hassan/Documents/wod-prediction/WOD-prediction/pipeline_objects/data_loader.py:22: DtypeWarning: Columns (2,3,4,5,6) have mixed types. Specify dtype option on import or set low_memory=False.\n",
      "  df = pd.read_csv(os.path.join(self.root_path, file))\n"
     ]
    }
   ],
   "source": [
    "data_path = pipeline_objects.__path__[0].replace(\"pipeline_objects\", \"Data\")\n",
    "loader = DataLoader(root_path = data_path, objects= ['open_results','descriptions','benchmark_stats'])\n",
    "data = loader.load()"
   ]
  },
  {
   "cell_type": "code",
   "execution_count": 3,
   "metadata": {},
   "outputs": [],
   "source": [
    "# to test the pipeline faster, we can sample the data, remove this line to use all the data\n",
    "data['open_results'] = data['open_results'].sample(1000)"
   ]
  },
  {
   "cell_type": "code",
   "execution_count": 4,
   "metadata": {},
   "outputs": [
    {
     "name": "stderr",
     "output_type": "stream",
     "text": [
      "/Users/hassan/Documents/wod-prediction/WOD-prediction/pipeline_objects/feature_engineering_parts/helpers.py:338: FutureWarning: errors='ignore' is deprecated and will raise in a future version. Use to_numeric without passing `errors` and catch exceptions explicitly instead\n",
      "  df_modified[workout_name] = pd.to_numeric(df_modified[workout_name], errors=\"ignore\")\n"
     ]
    }
   ],
   "source": [
    "preprocessing_config = {\n",
    "    'open_results':\n",
    "    {\n",
    "        'create_description_embeddings' : False,\n",
    "    },\n",
    "    # 'workout_descriptions':{},\n",
    "    'benchmark_stats':{\n",
    "        'remove_outliers': True,\n",
    "        'missing_method':'zero'\n",
    "    },\n",
    "    # 'athlete_info':{}\n",
    "}\n",
    "preprocessor = DataPreprocessor(config=preprocessing_config)\n",
    "preprocessed_data = preprocessor.transform(data=data)\n"
   ]
  },
  {
   "cell_type": "code",
   "execution_count": null,
   "metadata": {},
   "outputs": [],
   "source": [
    "rf_modeler = RandomForestModel(n_estimators = 10)\n",
    "rf_modeler.fit(X = preprocessed_data['X'], y = preprocessed_data['y'])\n",
    "\n",
    "rf_modeler.show_results()"
   ]
  },
  {
   "cell_type": "code",
   "execution_count": null,
   "metadata": {},
   "outputs": [],
   "source": []
  },
  {
   "cell_type": "code",
   "execution_count": null,
   "metadata": {},
   "outputs": [],
   "source": []
  }
 ],
 "metadata": {
  "kernelspec": {
   "display_name": "wod_project",
   "language": "python",
   "name": "python3"
  },
  "language_info": {
   "codemirror_mode": {
    "name": "ipython",
    "version": 3
   },
   "file_extension": ".py",
   "mimetype": "text/x-python",
   "name": "python",
   "nbconvert_exporter": "python",
   "pygments_lexer": "ipython3",
   "version": "3.12.1"
  }
 },
 "nbformat": 4,
 "nbformat_minor": 2
}
