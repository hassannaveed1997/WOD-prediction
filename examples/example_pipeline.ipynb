{
 "cells": [
  {
   "cell_type": "code",
   "execution_count": null,
   "metadata": {},
   "outputs": [],
   "source": [
    "import sys\n",
    "\n",
    "PATH_TO_WORKSPACE = '/Users/hassan/Documents/wod-prediction/WOD-prediction'\n",
    "sys.path.append(PATH_TO_WORKSPACE)\n",
    "\n",
    "from pipeline_objects.data_loader import DataLoader\n",
    "from pipeline_objects.preprocessor import DataPreprocessor\n",
    "from pipeline_objects.modeling import RandomForestModel\n"
   ]
  },
  {
   "cell_type": "code",
   "execution_count": null,
   "metadata": {},
   "outputs": [],
   "source": [
    "loader = DataLoader(root_path = f'{PATH_TO_WORKSPACE}/Data',objects= ['open_results','descriptions','benchmark_stats'])\n",
    "data = loader.load()"
   ]
  },
  {
   "cell_type": "code",
   "execution_count": null,
   "metadata": {},
   "outputs": [],
   "source": [
    "# to test the pipeline faster, we can sample the data, remove this line to use all the data\n",
    "data['open_results'] = data['open_results'].sample(10000)"
   ]
  },
  {
   "cell_type": "code",
   "execution_count": null,
   "metadata": {},
   "outputs": [],
   "source": [
    "preprocessing_config = {\n",
    "    'open_results':\n",
    "    {\n",
    "        'create_description_embeddings' : False,\n",
    "    },\n",
    "    # 'workout_descriptions':{},\n",
    "    'benchmark_stats':{\n",
    "        'remove_outliers': True,\n",
    "        'missing_method':'zero'\n",
    "    },\n",
    "    # 'athlete_info':{}\n",
    "}\n",
    "preprocessor = DataPreprocessor(config=preprocessing_config)\n",
    "preprocessed_data = preprocessor.transform(data=data)\n"
   ]
  },
  {
   "cell_type": "code",
   "execution_count": null,
   "metadata": {},
   "outputs": [],
   "source": [
    "rf_modeler = RandomForestModel(n_estimators = 100)\n",
    "rf_modeler.fit(**preprocessed_data)\n",
    "\n",
    "rf_modeler.show_results()"
   ]
  }
 ],
 "metadata": {
  "kernelspec": {
   "display_name": "wod_project",
   "language": "python",
   "name": "python3"
  },
  "language_info": {
   "codemirror_mode": {
    "name": "ipython",
    "version": 3
   },
   "file_extension": ".py",
   "mimetype": "text/x-python",
   "name": "python",
   "nbconvert_exporter": "python",
   "pygments_lexer": "ipython3",
   "version": "3.12.1"
  }
 },
 "nbformat": 4,
 "nbformat_minor": 2
}
