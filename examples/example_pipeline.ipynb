{
 "cells": [
  {
   "cell_type": "code",
   "execution_count": 1,
   "metadata": {},
   "outputs": [],
   "source": [
    "import wod_predictor\n",
    "from wod_predictor.data_loader import DataLoader\n",
    "from wod_predictor.splitter import DataSplitter\n",
    "from wod_predictor.preprocessor import DataPreprocessor \n",
    "from wod_predictor.modeling import RandomForestModel\n"
   ]
  },
  {
   "cell_type": "code",
   "execution_count": 2,
   "metadata": {},
   "outputs": [
    {
     "name": "stderr",
     "output_type": "stream",
     "text": [
      "g:\\my drive\\ms\\000.research\\fall 2024\\ds@gt\\wod\\wod-prediction\\wod_predictor\\data_loader.py:56: DtypeWarning: Columns (2,3,4,5,6) have mixed types. Specify dtype option on import or set low_memory=False.\n",
      "  df = pd.read_csv(os.path.join(self.root_path, file))\n",
      "g:\\my drive\\ms\\000.research\\fall 2024\\ds@gt\\wod\\wod-prediction\\wod_predictor\\data_loader.py:56: DtypeWarning: Columns (2,3,4,5) have mixed types. Specify dtype option on import or set low_memory=False.\n",
      "  df = pd.read_csv(os.path.join(self.root_path, file))\n"
     ]
    }
   ],
   "source": [
    "data_path = wod_predictor.__path__[0].replace(\"wod_predictor\", \"Data\")\n",
    "loader = DataLoader(root_path = data_path, objects= ['open_results','descriptions','benchmark_stats',  'athlete_info'])\n",
    "data = loader.load()"
   ]
  },
  {
   "cell_type": "code",
   "execution_count": 3,
   "metadata": {},
   "outputs": [],
   "source": [
    "splitter = DataSplitter(sample = 20000, test_ratio=  0.2, test_filter='23.*')\n",
    "train_data, test_data = splitter.split(data)"
   ]
  },
  {
   "cell_type": "code",
   "execution_count": 4,
   "metadata": {},
   "outputs": [
    {
     "name": "stderr",
     "output_type": "stream",
     "text": [
      "g:\\my drive\\ms\\000.research\\fall 2024\\ds@gt\\wod\\wod-prediction\\wod_predictor\\feature_engineering_parts\\helpers.py:306: FutureWarning: errors='ignore' is deprecated and will raise in a future version. Use to_numeric without passing `errors` and catch exceptions explicitly instead\n",
      "  df_modified[workout_name] = pd.to_numeric(\n",
      "g:\\my drive\\ms\\000.research\\fall 2024\\ds@gt\\wod\\wod-prediction\\wod_predictor\\feature_engineering_parts\\helpers.py:265: UserWarning: Could not convert -- to time, returning as is. Error: invalid literal for int() with base 10: '--'\n",
      "  warnings.warn(\n"
     ]
    }
   ],
   "source": [
    "preprocessing_config = {\n",
    "    'open_results':\n",
    "    {\n",
    "        'scale_up': True,\n",
    "        'scale_method': 'standard', # standard or quantile\n",
    "\n",
    "    },\n",
    "    'benchmark_stats':{\n",
    "        'remove_outliers': True,\n",
    "        'missing_method':'zero',\n",
    "        'drop_missing_threshold': 0.9\n",
    "        # 'neighbors': 5,\n",
    "    },\n",
    "    'athlete_info':{}\n",
    "}\n",
    "preprocessor = DataPreprocessor(config=preprocessing_config)\n",
    "preprocessor.fit(data=train_data)\n"
   ]
  },
  {
   "cell_type": "code",
   "execution_count": 5,
   "metadata": {},
   "outputs": [
    {
     "name": "stderr",
     "output_type": "stream",
     "text": [
      "g:\\my drive\\ms\\000.research\\fall 2024\\ds@gt\\wod\\wod-prediction\\wod_predictor\\feature_engineering_parts\\helpers.py:306: FutureWarning: errors='ignore' is deprecated and will raise in a future version. Use to_numeric without passing `errors` and catch exceptions explicitly instead\n",
      "  df_modified[workout_name] = pd.to_numeric(\n",
      "g:\\my drive\\ms\\000.research\\fall 2024\\ds@gt\\wod\\wod-prediction\\wod_predictor\\feature_engineering_parts\\helpers.py:265: UserWarning: Could not convert -- to time, returning as is. Error: invalid literal for int() with base 10: '--'\n",
      "  warnings.warn(\n"
     ]
    },
    {
     "name": "stdout",
     "output_type": "stream",
     "text": [
      "Converted height to height in imperial units\n",
      "Converted weight to weight in imperial units\n"
     ]
    }
   ],
   "source": [
    "train_preprocessed = preprocessor.transform(data=train_data)"
   ]
  },
  {
   "cell_type": "code",
   "execution_count": 6,
   "metadata": {},
   "outputs": [
    {
     "name": "stderr",
     "output_type": "stream",
     "text": [
      "g:\\my drive\\ms\\000.research\\fall 2024\\ds@gt\\wod\\wod-prediction\\wod_predictor\\feature_engineering_parts\\helpers.py:306: FutureWarning: errors='ignore' is deprecated and will raise in a future version. Use to_numeric without passing `errors` and catch exceptions explicitly instead\n",
      "  df_modified[workout_name] = pd.to_numeric(\n"
     ]
    },
    {
     "name": "stdout",
     "output_type": "stream",
     "text": [
      "Converted height to height in imperial units\n",
      "Converted weight to weight in imperial units\n"
     ]
    }
   ],
   "source": [
    "test_preprocessed = preprocessor.transform(data=test_data)"
   ]
  },
  {
   "cell_type": "code",
   "execution_count": 7,
   "metadata": {},
   "outputs": [
    {
     "name": "stdout",
     "output_type": "stream",
     "text": [
      "Mean Absolute Error: 0.52\n",
      "Mean Absolute Percentage Error: 2.78\n"
     ]
    },
    {
     "data": {
      "text/html": [
       "<div>\n",
       "<style scoped>\n",
       "    .dataframe tbody tr th:only-of-type {\n",
       "        vertical-align: middle;\n",
       "    }\n",
       "\n",
       "    .dataframe tbody tr th {\n",
       "        vertical-align: top;\n",
       "    }\n",
       "\n",
       "    .dataframe thead th {\n",
       "        text-align: right;\n",
       "    }\n",
       "</style>\n",
       "<table border=\"1\" class=\"dataframe\">\n",
       "  <thead>\n",
       "    <tr style=\"text-align: right;\">\n",
       "      <th></th>\n",
       "      <th>y_test_mean</th>\n",
       "      <th>y_pred_mean</th>\n",
       "      <th>error_mean</th>\n",
       "      <th>error_percentage</th>\n",
       "    </tr>\n",
       "    <tr>\n",
       "      <th>workout_name</th>\n",
       "      <th></th>\n",
       "      <th></th>\n",
       "      <th></th>\n",
       "      <th></th>\n",
       "    </tr>\n",
       "  </thead>\n",
       "  <tbody>\n",
       "    <tr>\n",
       "      <th>workout_23.1</th>\n",
       "      <td>184.832075</td>\n",
       "      <td>185.365649</td>\n",
       "      <td>7.545030</td>\n",
       "      <td>4.082100</td>\n",
       "    </tr>\n",
       "    <tr>\n",
       "      <th>workout_23.1_scaled</th>\n",
       "      <td>234.400000</td>\n",
       "      <td>208.148450</td>\n",
       "      <td>33.659775</td>\n",
       "      <td>14.359972</td>\n",
       "    </tr>\n",
       "    <tr>\n",
       "      <th>workout_23.2A</th>\n",
       "      <td>131.850638</td>\n",
       "      <td>132.141642</td>\n",
       "      <td>11.749836</td>\n",
       "      <td>8.911475</td>\n",
       "    </tr>\n",
       "    <tr>\n",
       "      <th>workout_23.2B</th>\n",
       "      <td>207.477358</td>\n",
       "      <td>207.518542</td>\n",
       "      <td>18.783788</td>\n",
       "      <td>9.053416</td>\n",
       "    </tr>\n",
       "    <tr>\n",
       "      <th>workout_23.3</th>\n",
       "      <td>24.112896</td>\n",
       "      <td>26.246526</td>\n",
       "      <td>5.940550</td>\n",
       "      <td>24.636401</td>\n",
       "    </tr>\n",
       "    <tr>\n",
       "      <th>workout_23.3_scaled</th>\n",
       "      <td>9.890146</td>\n",
       "      <td>12.243936</td>\n",
       "      <td>2.535789</td>\n",
       "      <td>25.639551</td>\n",
       "    </tr>\n",
       "  </tbody>\n",
       "</table>\n",
       "</div>"
      ],
      "text/plain": [
       "                     y_test_mean  y_pred_mean  error_mean  error_percentage\n",
       "workout_name                                                               \n",
       "workout_23.1          184.832075   185.365649    7.545030          4.082100\n",
       "workout_23.1_scaled   234.400000   208.148450   33.659775         14.359972\n",
       "workout_23.2A         131.850638   132.141642   11.749836          8.911475\n",
       "workout_23.2B         207.477358   207.518542   18.783788          9.053416\n",
       "workout_23.3           24.112896    26.246526    5.940550         24.636401\n",
       "workout_23.3_scaled     9.890146    12.243936    2.535789         25.639551"
      ]
     },
     "metadata": {},
     "output_type": "display_data"
    }
   ],
   "source": [
    "config = {}\n",
    "rf_modeler = RandomForestModel(config = config, n_estimators = 10)\n",
    "rf_modeler.fit(X = train_preprocessed['X'], y = train_preprocessed['y'])\n",
    "rf_modeler.predict(X = test_preprocessed['X'])\n",
    "rf_modeler.show_results(y_test = test_preprocessed['y'], meta_data = test_preprocessed['meta_data'])"
   ]
  }
 ],
 "metadata": {
  "kernelspec": {
   "display_name": "wod",
   "language": "python",
   "name": "python3"
  },
  "language_info": {
   "codemirror_mode": {
    "name": "ipython",
    "version": 3
   },
   "file_extension": ".py",
   "mimetype": "text/x-python",
   "name": "python",
   "nbconvert_exporter": "python",
   "pygments_lexer": "ipython3",
   "version": "3.12.4"
  }
 },
 "nbformat": 4,
 "nbformat_minor": 2
}
