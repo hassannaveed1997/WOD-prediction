{
 "cells": [
  {
   "cell_type": "code",
   "execution_count": 1,
   "metadata": {},
   "outputs": [],
   "source": [
    "import sys\n",
    "sys.path.append('..')\n",
    "\n",
    "from pipeline_objects.data_loader import DataLoader\n",
    "from pipeline_objects.preprocessor import DataPreprocessor\n",
    "from pipeline_objects.modeling import RandomForestModel\n"
   ]
  },
  {
   "cell_type": "code",
   "execution_count": 2,
   "metadata": {},
   "outputs": [
    {
     "name": "stderr",
     "output_type": "stream",
     "text": [
      "/Users/hassan/Documents/wod-prediction/WOD-prediction/examples/../pipeline_objects/data_loader.py:22: DtypeWarning: Columns (2,3,4,5) have mixed types. Specify dtype option on import or set low_memory=False.\n",
      "  df = pd.read_csv(os.path.join(self.root_path, file))\n",
      "/Users/hassan/Documents/wod-prediction/WOD-prediction/examples/../pipeline_objects/data_loader.py:22: DtypeWarning: Columns (2,3,4,5,6) have mixed types. Specify dtype option on import or set low_memory=False.\n",
      "  df = pd.read_csv(os.path.join(self.root_path, file))\n"
     ]
    }
   ],
   "source": [
    "loader = DataLoader('../Data', ['open_results','descriptions'])\n",
    "data = loader.load()"
   ]
  },
  {
   "cell_type": "code",
   "execution_count": 3,
   "metadata": {},
   "outputs": [],
   "source": [
    "# to test the pipeline faster, we can sample the data, remove this line to use all the data\n",
    "data['open_results'] = data['open_results'].sample(10000)"
   ]
  },
  {
   "cell_type": "code",
   "execution_count": 4,
   "metadata": {},
   "outputs": [],
   "source": [
    "preprocessing_config = {\n",
    "    'open_results':\n",
    "    {\n",
    "        'create_description_embeddings' : False,\n",
    "    },\n",
    "    # 'workout_descriptions':{},\n",
    "    # 'benchmark_stats':{},\n",
    "    # 'athlete_info':{}\n",
    "}\n",
    "preprocessor = DataPreprocessor(preprocessing_config)\n",
    "preprocessed_data = preprocessor.transform(data)\n"
   ]
  },
  {
   "cell_type": "code",
   "execution_count": null,
   "metadata": {},
   "outputs": [],
   "source": [
    "rf_modeler = RandomForestModel(n_estimators = 100)\n",
    "rf_modeler.fit(**preprocessed_data)\n",
    "\n",
    "rf_modeler.show_results()"
   ]
  }
 ],
 "metadata": {
  "kernelspec": {
   "display_name": "wod_project",
   "language": "python",
   "name": "python3"
  },
  "language_info": {
   "codemirror_mode": {
    "name": "ipython",
    "version": 3
   },
   "file_extension": ".py",
   "mimetype": "text/x-python",
   "name": "python",
   "nbconvert_exporter": "python",
   "pygments_lexer": "ipython3",
   "version": "3.12.1"
  }
 },
 "nbformat": 4,
 "nbformat_minor": 2
}
