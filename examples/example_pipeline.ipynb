{
 "cells": [
  {
   "cell_type": "code",
   "execution_count": 1,
   "metadata": {},
   "outputs": [],
   "source": [
    "import warnings\n",
    "\n",
    "import wod_predictor\n",
    "from wod_predictor.data_loader import DataLoader\n",
    "from wod_predictor.splitter import DataSplitter\n",
    "from wod_predictor.preprocessor import DataPreprocessor \n",
    "from wod_predictor.modeling import RandomForestModel"
   ]
  },
  {
   "cell_type": "code",
   "execution_count": 2,
   "metadata": {},
   "outputs": [],
   "source": [
    "import warnings\n",
    "warnings.filterwarnings('ignore')"
   ]
  },
  {
   "cell_type": "code",
   "execution_count": 3,
   "metadata": {},
   "outputs": [],
   "source": [
    "data_path = wod_predictor.__path__[0].replace(\"wod_predictor\", \"Data\")\n",
    "loader = DataLoader(root_path = data_path, objects= ['open_results','descriptions','benchmark_stats',  'athlete_info'])\n",
    "data = loader.load()"
   ]
  },
  {
   "cell_type": "code",
   "execution_count": 4,
   "metadata": {},
   "outputs": [],
   "source": [
    "splitter = DataSplitter(sample = 20000, test_ratio=  0.2, test_filter='23.*')\n",
    "train_data, test_data = splitter.split(data)"
   ]
  },
  {
   "cell_type": "code",
   "execution_count": 5,
   "metadata": {},
   "outputs": [],
   "source": [
    "# Example using MinMaxScaler\n",
    "preprocessing_config = {\n",
    "    'open_results':\n",
    "    {\n",
    "        'scale_up': True,\n",
    "        'scale_args': {\n",
    "            \"method\": \"general\",\n",
    "            \"scaler_name\": \"MinMaxScaler\"\n",
    "        }\n",
    "    },\n",
    "    'benchmark_stats':{\n",
    "        'remove_outliers': True,\n",
    "        'missing_method':'zero',\n",
    "        'drop_missing_threshold': 0.9,\n",
    "        'scale_args': {\n",
    "            \"method\": \"general\",\n",
    "            \"scaler_name\": \"MinMaxScaler\"\n",
    "        }\n",
    "        # 'neighbors': 5,\n",
    "    },\n",
    "    'athlete_info':{}\n",
    "}\n",
    "preprocessor = DataPreprocessor(config=preprocessing_config)\n",
    "preprocessor.fit(data=train_data)\n"
   ]
  },
  {
   "attachments": {},
   "cell_type": "markdown",
   "metadata": {},
   "source": [
    "benchmark_df"
   ]
  },
  {
   "cell_type": "code",
   "execution_count": 6,
   "metadata": {},
   "outputs": [
    {
     "name": "stdout",
     "output_type": "stream",
     "text": [
      "Converted height to height in imperial units\n",
      "Converted weight to weight in imperial units\n"
     ]
    }
   ],
   "source": [
    "train_preprocessed = preprocessor.transform(data=train_data)"
   ]
  },
  {
   "cell_type": "code",
   "execution_count": 7,
   "metadata": {},
   "outputs": [
    {
     "name": "stdout",
     "output_type": "stream",
     "text": [
      "Converted height to height in imperial units\n",
      "Converted weight to weight in imperial units\n"
     ]
    }
   ],
   "source": [
    "test_preprocessed = preprocessor.transform(data=test_data)"
   ]
  },
  {
   "cell_type": "code",
   "execution_count": 8,
   "metadata": {},
   "outputs": [
    {
     "name": "stdout",
     "output_type": "stream",
     "text": [
      "Mean Absolute Error: 0.08\n",
      "Mean Absolute Percentage Error: 0.43\n"
     ]
    },
    {
     "data": {
      "text/html": [
       "<div>\n",
       "<style scoped>\n",
       "    .dataframe tbody tr th:only-of-type {\n",
       "        vertical-align: middle;\n",
       "    }\n",
       "\n",
       "    .dataframe tbody tr th {\n",
       "        vertical-align: top;\n",
       "    }\n",
       "\n",
       "    .dataframe thead th {\n",
       "        text-align: right;\n",
       "    }\n",
       "</style>\n",
       "<table border=\"1\" class=\"dataframe\">\n",
       "  <thead>\n",
       "    <tr style=\"text-align: right;\">\n",
       "      <th></th>\n",
       "      <th>y_test_mean</th>\n",
       "      <th>y_pred_mean</th>\n",
       "      <th>error_mean</th>\n",
       "      <th>error_percentage</th>\n",
       "    </tr>\n",
       "  </thead>\n",
       "  <tbody>\n",
       "    <tr>\n",
       "      <th>23.1</th>\n",
       "      <td>185.239796</td>\n",
       "      <td>184.960230</td>\n",
       "      <td>7.502481</td>\n",
       "      <td>4.050145</td>\n",
       "    </tr>\n",
       "    <tr>\n",
       "      <th>23.1_scaled</th>\n",
       "      <td>243.000000</td>\n",
       "      <td>239.285341</td>\n",
       "      <td>3.714659</td>\n",
       "      <td>1.528666</td>\n",
       "    </tr>\n",
       "    <tr>\n",
       "      <th>23.2A</th>\n",
       "      <td>131.760000</td>\n",
       "      <td>131.458538</td>\n",
       "      <td>12.007424</td>\n",
       "      <td>9.113103</td>\n",
       "    </tr>\n",
       "    <tr>\n",
       "      <th>23.2B</th>\n",
       "      <td>205.955000</td>\n",
       "      <td>206.281494</td>\n",
       "      <td>20.361833</td>\n",
       "      <td>9.886545</td>\n",
       "    </tr>\n",
       "    <tr>\n",
       "      <th>23.3</th>\n",
       "      <td>24.255489</td>\n",
       "      <td>28.036345</td>\n",
       "      <td>6.772005</td>\n",
       "      <td>27.919475</td>\n",
       "    </tr>\n",
       "    <tr>\n",
       "      <th>23.3_scaled</th>\n",
       "      <td>8.800000</td>\n",
       "      <td>11.217794</td>\n",
       "      <td>2.417794</td>\n",
       "      <td>27.474932</td>\n",
       "    </tr>\n",
       "  </tbody>\n",
       "</table>\n",
       "</div>"
      ],
      "text/plain": [
       "             y_test_mean  y_pred_mean  error_mean  error_percentage\n",
       "23.1          185.239796   184.960230    7.502481          4.050145\n",
       "23.1_scaled   243.000000   239.285341    3.714659          1.528666\n",
       "23.2A         131.760000   131.458538   12.007424          9.113103\n",
       "23.2B         205.955000   206.281494   20.361833          9.886545\n",
       "23.3           24.255489    28.036345    6.772005         27.919475\n",
       "23.3_scaled     8.800000    11.217794    2.417794         27.474932"
      ]
     },
     "metadata": {},
     "output_type": "display_data"
    }
   ],
   "source": [
    "config = {}\n",
    "rf_modeler = RandomForestModel(config = config, n_estimators = 10)\n",
    "rf_modeler.fit(X = train_preprocessed['X'], y = train_preprocessed['y'])\n",
    "rf_modeler.predict(X = test_preprocessed['X'])\n",
    "rf_modeler.show_results(y_test = test_preprocessed['y'], meta_data = test_preprocessed['meta_data'])"
   ]
  }
 ],
 "metadata": {
  "kernelspec": {
   "display_name": "wod",
   "language": "python",
   "name": "python3"
  },
  "language_info": {
   "codemirror_mode": {
    "name": "ipython",
    "version": 3
   },
   "file_extension": ".py",
   "mimetype": "text/x-python",
   "name": "python",
   "nbconvert_exporter": "python",
   "pygments_lexer": "ipython3",
   "version": "3.10.0"
  }
 },
 "nbformat": 4,
 "nbformat_minor": 2
}
