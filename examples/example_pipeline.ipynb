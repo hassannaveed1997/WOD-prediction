{
 "cells": [
  {
   "cell_type": "code",
   "execution_count": 1,
   "metadata": {},
   "outputs": [],
   "source": [
    "import warnings\n",
    "\n",
    "import wod_predictor\n",
    "from wod_predictor.data_loader import DataLoader\n",
    "from wod_predictor.splitter import DataSplitter\n",
    "from wod_predictor.preprocessor import DataPreprocessor \n",
    "from wod_predictor.modeling import RandomForestModel"
   ]
  },
  {
   "cell_type": "code",
   "execution_count": 2,
   "metadata": {},
   "outputs": [],
   "source": [
    "import warnings\n",
    "warnings.filterwarnings('ignore')"
   ]
  },
  {
   "cell_type": "code",
   "execution_count": 3,
   "metadata": {},
   "outputs": [],
   "source": [
    "data_path = wod_predictor.__path__[0].replace(\"wod_predictor\", \"Data\")\n",
    "loader = DataLoader(root_path = data_path, objects= ['open_results','descriptions','benchmark_stats',  'athlete_info'])\n",
    "data = loader.load()"
   ]
  },
  {
   "cell_type": "code",
   "execution_count": 4,
   "metadata": {},
   "outputs": [],
   "source": [
    "splitter = DataSplitter(sample = 20000, test_ratio=  0.2, test_filter='23.*')\n",
    "train_data, test_data = splitter.split(data)"
   ]
  },
  {
   "cell_type": "code",
   "execution_count": 5,
   "metadata": {},
   "outputs": [],
   "source": [
    "# Example using MinMaxScaler\n",
    "preprocessing_config = {\n",
    "    'open_results':\n",
    "    {\n",
    "        'scale_up': True,\n",
    "        'scale_args': {\n",
    "            \"method\": \"general\",\n",
    "            \"scaler_name\": \"MinMaxScaler\"\n",
    "        }\n",
    "    },\n",
    "    'benchmark_stats':{\n",
    "        'remove_outliers': True,\n",
    "        'missing_method':'zero',\n",
    "        'drop_missing_threshold': 0.9,\n",
    "        'scale_args': {\n",
    "            \"method\": \"general\",\n",
    "            \"scaler_name\": \"MinMaxScaler\"\n",
    "        }\n",
    "        # 'neighbors': 5,\n",
    "    },\n",
    "    'athlete_info':{}\n",
    "}\n",
    "preprocessor = DataPreprocessor(config=preprocessing_config)\n",
    "preprocessor.fit(data=train_data)\n"
   ]
  },
  {
   "attachments": {},
   "cell_type": "markdown",
   "metadata": {},
   "source": [
    "benchmark_df"
   ]
  },
  {
   "cell_type": "code",
   "execution_count": 6,
   "metadata": {},
   "outputs": [
    {
     "name": "stdout",
     "output_type": "stream",
     "text": [
      "Converted height to height in imperial units\n",
      "Converted weight to weight in imperial units\n"
     ]
    }
   ],
   "source": [
    "train_preprocessed = preprocessor.transform(data=train_data)"
   ]
  },
  {
   "cell_type": "code",
   "execution_count": 7,
   "metadata": {},
   "outputs": [
    {
     "name": "stdout",
     "output_type": "stream",
     "text": [
      "Converted height to height in imperial units\n",
      "Converted weight to weight in imperial units\n"
     ]
    }
   ],
   "source": [
    "test_preprocessed = preprocessor.transform(data=test_data)"
   ]
  },
  {
   "cell_type": "code",
   "execution_count": 8,
   "metadata": {},
   "outputs": [
    {
     "name": "stdout",
     "output_type": "stream",
     "text": [
      "Mean Absolute Error: 0.04\n",
      "Mean Absolute Percentage Error: 0.21\n"
     ]
    },
    {
     "data": {
      "text/html": [
       "<div>\n",
       "<style scoped>\n",
       "    .dataframe tbody tr th:only-of-type {\n",
       "        vertical-align: middle;\n",
       "    }\n",
       "\n",
       "    .dataframe tbody tr th {\n",
       "        vertical-align: top;\n",
       "    }\n",
       "\n",
       "    .dataframe thead th {\n",
       "        text-align: right;\n",
       "    }\n",
       "</style>\n",
       "<table border=\"1\" class=\"dataframe\">\n",
       "  <thead>\n",
       "    <tr style=\"text-align: right;\">\n",
       "      <th></th>\n",
       "      <th>y_test_mean</th>\n",
       "      <th>y_pred_mean</th>\n",
       "      <th>error_mean</th>\n",
       "      <th>error_percentage</th>\n",
       "    </tr>\n",
       "  </thead>\n",
       "  <tbody>\n",
       "    <tr>\n",
       "      <th>23.1</th>\n",
       "      <td>185.289527</td>\n",
       "      <td>185.729175</td>\n",
       "      <td>7.975664</td>\n",
       "      <td>4.304433</td>\n",
       "    </tr>\n",
       "    <tr>\n",
       "      <th>23.1_scaled</th>\n",
       "      <td>222.000000</td>\n",
       "      <td>217.666667</td>\n",
       "      <td>32.266667</td>\n",
       "      <td>14.534535</td>\n",
       "    </tr>\n",
       "    <tr>\n",
       "      <th>23.2A</th>\n",
       "      <td>132.566925</td>\n",
       "      <td>132.238183</td>\n",
       "      <td>11.494523</td>\n",
       "      <td>8.670732</td>\n",
       "    </tr>\n",
       "    <tr>\n",
       "      <th>23.2B</th>\n",
       "      <td>208.337669</td>\n",
       "      <td>207.891078</td>\n",
       "      <td>18.532199</td>\n",
       "      <td>8.895271</td>\n",
       "    </tr>\n",
       "    <tr>\n",
       "      <th>23.3</th>\n",
       "      <td>26.929453</td>\n",
       "      <td>27.267228</td>\n",
       "      <td>9.953750</td>\n",
       "      <td>36.962318</td>\n",
       "    </tr>\n",
       "    <tr>\n",
       "      <th>23.3_scaled</th>\n",
       "      <td>10.186729</td>\n",
       "      <td>11.747680</td>\n",
       "      <td>3.762962</td>\n",
       "      <td>36.939842</td>\n",
       "    </tr>\n",
       "  </tbody>\n",
       "</table>\n",
       "</div>"
      ],
      "text/plain": [
       "             y_test_mean  y_pred_mean  error_mean  error_percentage\n",
       "23.1          185.289527   185.729175    7.975664          4.304433\n",
       "23.1_scaled   222.000000   217.666667   32.266667         14.534535\n",
       "23.2A         132.566925   132.238183   11.494523          8.670732\n",
       "23.2B         208.337669   207.891078   18.532199          8.895271\n",
       "23.3           26.929453    27.267228    9.953750         36.962318\n",
       "23.3_scaled    10.186729    11.747680    3.762962         36.939842"
      ]
     },
     "metadata": {},
     "output_type": "display_data"
    }
   ],
   "source": [
    "config = {}\n",
    "rf_modeler = RandomForestModel(config = config, n_estimators = 10)\n",
    "rf_modeler.fit(X = train_preprocessed['X'], y = train_preprocessed['y'])\n",
    "rf_modeler.predict(X = test_preprocessed['X'])\n",
    "rf_modeler.show_results(y_test = test_preprocessed['y'], meta_data = test_preprocessed['meta_data'])"
   ]
  }
 ],
 "metadata": {
  "kernelspec": {
   "display_name": "wod",
   "language": "python",
   "name": "python3"
  },
  "language_info": {
   "codemirror_mode": {
    "name": "ipython",
    "version": 3
   },
   "file_extension": ".py",
   "mimetype": "text/x-python",
   "name": "python",
   "nbconvert_exporter": "python",
   "pygments_lexer": "ipython3",
   "version": "3.10.0"
  }
 },
 "nbformat": 4,
 "nbformat_minor": 2
}
