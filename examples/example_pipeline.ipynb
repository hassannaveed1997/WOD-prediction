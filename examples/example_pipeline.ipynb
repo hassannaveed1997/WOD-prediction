{
 "cells": [
  {
   "cell_type": "code",
   "execution_count": 1,
   "metadata": {},
   "outputs": [],
   "source": [
    "import wod_predictor\n",
    "from wod_predictor.data_loader import DataLoader\n",
    "from wod_predictor.splitter import DataSpitter\n",
    "from wod_predictor.preprocessor import DataPreprocessor \n",
    "from wod_predictor.modeling import RandomForestModel"
   ]
  },
  {
   "cell_type": "code",
   "execution_count": 2,
   "metadata": {},
   "outputs": [
    {
     "name": "stderr",
     "output_type": "stream",
     "text": [
      "/storage/ice1/0/9/qzheng75/WOD-prediction/wod_predictor/data_loader.py:56: DtypeWarning: Columns (2,3,4,5) have mixed types. Specify dtype option on import or set low_memory=False.\n",
      "  df = pd.read_csv(os.path.join(self.root_path, file))\n",
      "/storage/ice1/0/9/qzheng75/WOD-prediction/wod_predictor/data_loader.py:56: DtypeWarning: Columns (2,3,4,5,6) have mixed types. Specify dtype option on import or set low_memory=False.\n",
      "  df = pd.read_csv(os.path.join(self.root_path, file))\n"
     ]
    }
   ],
   "source": [
    "data_path = wod_predictor.__path__[0].replace(\"wod_predictor\", \"Data\")\n",
    "loader = DataLoader(root_path = data_path, objects= ['open_results','descriptions','benchmark_stats',  'athlete_info'])\n",
    "data = loader.load()"
   ]
  },
  {
   "cell_type": "code",
   "execution_count": 3,
   "metadata": {},
   "outputs": [],
   "source": [
    "splitter = DataSpitter(sample = 1000, test_ratio=  0.2, test_filter='23.*')\n",
    "train_data, test_data = splitter.split(data)"
   ]
  },
  {
   "cell_type": "code",
   "execution_count": 4,
   "metadata": {},
   "outputs": [
    {
     "name": "stderr",
     "output_type": "stream",
     "text": [
      "/storage/ice1/0/9/qzheng75/WOD-prediction/wod_predictor/feature_engineering_parts/helpers.py:310: FutureWarning: errors='ignore' is deprecated and will raise in a future version. Use to_numeric without passing `errors` and catch exceptions explicitly instead\n",
      "  df_modified[workout_name] = pd.to_numeric(\n",
      "/storage/ice1/0/9/qzheng75/WOD-prediction/wod_predictor/feature_engineering_parts/helpers.py:269: UserWarning: Could not convert -- to time, returning as is. Error: invalid literal for int() with base 10: '--'\n",
      "  warnings.warn(\n"
     ]
    }
   ],
   "source": [
    "preprocessing_config = {\n",
    "    'open_results':\n",
    "    {\n",
    "        'scale_up': True,\n",
    "        'scale_args': {\n",
    "            \"method\": \"general\",\n",
    "            \"scaler_name\": \"StandardScaler\"\n",
    "        }\n",
    "    },\n",
    "    'benchmark_stats':{\n",
    "        'remove_outliers': True,\n",
    "        'missing_method':'zero',\n",
    "        'drop_missing_threshold': 0.9,\n",
    "        'scale_args': {\n",
    "            \"method\": \"general\",\n",
    "            \"scaler_name\": \"StandardScaler\"\n",
    "        }\n",
    "        # 'neighbors': 5,\n",
    "    },\n",
    "    'athlete_info':{}\n",
    "}\n",
    "preprocessor = DataPreprocessor(config=preprocessing_config)\n",
    "preprocessor.fit(data=train_data)\n"
   ]
  },
  {
   "attachments": {},
   "cell_type": "markdown",
   "metadata": {},
   "source": [
    "benchmark_df"
   ]
  },
  {
   "cell_type": "code",
   "execution_count": 5,
   "metadata": {},
   "outputs": [
    {
     "name": "stderr",
     "output_type": "stream",
     "text": [
      "/storage/ice1/0/9/qzheng75/WOD-prediction/wod_predictor/feature_engineering_parts/helpers.py:310: FutureWarning: errors='ignore' is deprecated and will raise in a future version. Use to_numeric without passing `errors` and catch exceptions explicitly instead\n",
      "  df_modified[workout_name] = pd.to_numeric(\n",
      "/storage/ice1/0/9/qzheng75/WOD-prediction/wod_predictor/feature_engineering_parts/helpers.py:269: UserWarning: Could not convert -- to time, returning as is. Error: invalid literal for int() with base 10: '--'\n",
      "  warnings.warn(\n"
     ]
    },
    {
     "name": "stdout",
     "output_type": "stream",
     "text": [
      "Converted height to height in imperial units\n",
      "Converted weight to weight in imperial units\n"
     ]
    }
   ],
   "source": [
    "train_preprocessed = preprocessor.transform(data=train_data)"
   ]
  },
  {
   "cell_type": "code",
   "execution_count": 6,
   "metadata": {},
   "outputs": [
    {
     "name": "stdout",
     "output_type": "stream",
     "text": [
      "Converted height to height in imperial units\n",
      "Converted weight to weight in imperial units\n"
     ]
    },
    {
     "name": "stderr",
     "output_type": "stream",
     "text": [
      "/storage/ice1/0/9/qzheng75/WOD-prediction/wod_predictor/feature_engineering_parts/helpers.py:310: FutureWarning: errors='ignore' is deprecated and will raise in a future version. Use to_numeric without passing `errors` and catch exceptions explicitly instead\n",
      "  df_modified[workout_name] = pd.to_numeric(\n"
     ]
    }
   ],
   "source": [
    "test_preprocessed = preprocessor.transform(data=test_data)"
   ]
  },
  {
   "cell_type": "code",
   "execution_count": 7,
   "metadata": {},
   "outputs": [
    {
     "name": "stdout",
     "output_type": "stream",
     "text": [
      "Mean Absolute Error: 0.56\n",
      "Mean Absolute Percentage Error: 1.91\n"
     ]
    },
    {
     "data": {
      "text/html": [
       "<div>\n",
       "<style scoped>\n",
       "    .dataframe tbody tr th:only-of-type {\n",
       "        vertical-align: middle;\n",
       "    }\n",
       "\n",
       "    .dataframe tbody tr th {\n",
       "        vertical-align: top;\n",
       "    }\n",
       "\n",
       "    .dataframe thead th {\n",
       "        text-align: right;\n",
       "    }\n",
       "</style>\n",
       "<table border=\"1\" class=\"dataframe\">\n",
       "  <thead>\n",
       "    <tr style=\"text-align: right;\">\n",
       "      <th></th>\n",
       "      <th>y_test_mean</th>\n",
       "      <th>y_pred_mean</th>\n",
       "      <th>error_mean</th>\n",
       "      <th>error_percentage</th>\n",
       "    </tr>\n",
       "  </thead>\n",
       "  <tbody>\n",
       "    <tr>\n",
       "      <th>23.1</th>\n",
       "      <td>185.180000</td>\n",
       "      <td>185.544634</td>\n",
       "      <td>7.943454</td>\n",
       "      <td>4.289586</td>\n",
       "    </tr>\n",
       "    <tr>\n",
       "      <th>23.2A</th>\n",
       "      <td>130.890000</td>\n",
       "      <td>132.516508</td>\n",
       "      <td>13.067828</td>\n",
       "      <td>9.983824</td>\n",
       "    </tr>\n",
       "    <tr>\n",
       "      <th>23.2B</th>\n",
       "      <td>207.060000</td>\n",
       "      <td>208.446894</td>\n",
       "      <td>18.015811</td>\n",
       "      <td>8.700768</td>\n",
       "    </tr>\n",
       "    <tr>\n",
       "      <th>23.3</th>\n",
       "      <td>24.262705</td>\n",
       "      <td>23.686266</td>\n",
       "      <td>4.135994</td>\n",
       "      <td>17.046712</td>\n",
       "    </tr>\n",
       "  </tbody>\n",
       "</table>\n",
       "</div>"
      ],
      "text/plain": [
       "       y_test_mean  y_pred_mean  error_mean  error_percentage\n",
       "23.1    185.180000   185.544634    7.943454          4.289586\n",
       "23.2A   130.890000   132.516508   13.067828          9.983824\n",
       "23.2B   207.060000   208.446894   18.015811          8.700768\n",
       "23.3     24.262705    23.686266    4.135994         17.046712"
      ]
     },
     "metadata": {},
     "output_type": "display_data"
    }
   ],
   "source": [
    "\n",
    "config = {}\n",
    "rf_modeler = RandomForestModel(config = config, n_estimators = 10)\n",
    "rf_modeler.fit(X = train_preprocessed['X'], y = train_preprocessed['y'])\n",
    "rf_modeler.predict(X = test_preprocessed['X'])\n",
    "rf_modeler.show_results(y_test = test_preprocessed['y'], meta_data = test_preprocessed['meta_data'])"
   ]
  },
  {
   "cell_type": "code",
   "execution_count": null,
   "metadata": {},
   "outputs": [],
   "source": []
  },
  {
   "cell_type": "code",
   "execution_count": null,
   "metadata": {},
   "outputs": [],
   "source": []
  }
 ],
 "metadata": {
  "kernelspec": {
   "display_name": "wod",
   "language": "python",
   "name": "python3"
  },
  "language_info": {
   "codemirror_mode": {
    "name": "ipython",
    "version": 3
   },
   "file_extension": ".py",
   "mimetype": "text/x-python",
   "name": "python",
   "nbconvert_exporter": "python",
   "pygments_lexer": "ipython3",
   "version": "3.10.0"
  }
 },
 "nbformat": 4,
 "nbformat_minor": 2
}
