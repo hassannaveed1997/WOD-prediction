{
 "cells": [
  {
   "cell_type": "code",
   "execution_count": 11,
   "metadata": {},
   "outputs": [],
   "source": [
    "import sys\n",
    "import os\n",
    "import json\n",
    "from openai import OpenAI\n",
    "\n",
    "# Add open AI API key in some parent folder and add to environment variable\n",
    "with open('../../../openai-api-key.txt', 'r') as f:\n",
    "    open_ai_api_key = f.read().strip()\n",
    "os.environ['OPENAI_API_KEY'] = open_ai_api_key"
   ]
  },
  {
   "cell_type": "code",
   "execution_count": 28,
   "metadata": {},
   "outputs": [],
   "source": [
    "with open(\"../../Data/workout_descriptions/open_parsed_descriptions.json\", \"r\") as f:\n",
    "    workout_descriptions = json.load(f)"
   ]
  },
  {
   "cell_type": "code",
   "execution_count": 10,
   "metadata": {},
   "outputs": [
    {
     "data": {
      "text/plain": [
       "'10 dumbbell snatches, 15 burpee box jump-overs, 20 dumbbell snatches, 15 burpee box jump-overs, 30 dumbbell snatches, 15 burpee box jump-overs, 40 dumbbell snatches, 15 burpee box jump-overs, 50 dumbbell snatches, 15 burpee box jump-overs'"
      ]
     },
     "execution_count": 10,
     "metadata": {},
     "output_type": "execute_result"
    }
   ],
   "source": [
    "workout_descriptions['17.1']['description']"
   ]
  },
  {
   "cell_type": "code",
   "execution_count": 40,
   "metadata": {},
   "outputs": [],
   "source": [
    "def represent_description(description):\n",
    "\n",
    "    prompt = f\"\"\"\n",
    "    Given the description of a workout, extract the movement, reps (or feet, meters, calories), and weight in lb (if applicable). If there are x rounds, repeat the movements x times. The first one is done as an example:\n",
    "    \n",
    "    -----------------------------------\n",
    "    Description:\n",
    "    2 rounds of:     \n",
    "        10 thrusters, weight 1\n",
    "        10 chest-to-bar pull-ups \n",
    "\n",
    "    2 rounds of: \n",
    "        7 thrusters, weight 2\n",
    "        7 bar muscle-ups \n",
    "\n",
    "    weights: 95, 135 lb (43, 61 kg)\n",
    "\n",
    "    Output:\n",
    "    [\n",
    "        {{\"movement\": \"thrusters\", \"reps\": 10, \"weight\": 95}},\n",
    "        {{\"movement\": \"chest-to-bar pull-ups\", \"reps\": 10}},\n",
    "        {{\"movement\": \"thrusters\", \"reps\": 10, \"weight\": 95}},\n",
    "        {{\"movement\": \"chest-to-bar pull-ups\", \"reps\": 10}},\n",
    "        {{\"movement\": \"thrusters\", \"reps\": 7, \"weight\": 135}},\n",
    "        {{\"movement\": \"bar muscle-ups\", \"reps\": 7}},\n",
    "        {{\"movement\": \"thrusters\", \"reps\": 7, \"weight\": 135}},\n",
    "        {{\"movement\": \"bar muscle-ups\", \"reps\": 7}},\n",
    "    ]\n",
    "    -----------------------------------\n",
    "    Description: {description}\n",
    "\n",
    "    Output:\n",
    "    \"\"\"\n",
    "    client = OpenAI()\n",
    "    completion = client.chat.completions.create(\n",
    "        model=\"gpt-3.5-turbo\",\n",
    "        messages=[\n",
    "            {\"role\": \"system\", \"content\": \"You are a helpful assistant designed to output JSON.\"},\n",
    "            {\"role\": \"user\", \"content\": prompt}\n",
    "        ],\n",
    "    )\n",
    "    cleaned_description = completion.choices[0].message.content\n",
    "    return cleaned_description\n",
    "description= workout_descriptions['17.1']['description']\n",
    "result = represent_description(description)"
   ]
  },
  {
   "cell_type": "code",
   "execution_count": 41,
   "metadata": {},
   "outputs": [
    {
     "name": "stdout",
     "output_type": "stream",
     "text": [
      "10 dumbbell snatches, 15 burpee box jump-overs, 20 dumbbell snatches, 15 burpee box jump-overs, 30 dumbbell snatches, 15 burpee box jump-overs, 40 dumbbell snatches, 15 burpee box jump-overs, 50 dumbbell snatches, 15 burpee box jump-overs\n",
      "[\n",
      "    {\"movement\": \"dumbbell snatches\", \"reps\": 10},\n",
      "    {\"movement\": \"burpee box jump-overs\", \"reps\": 15},\n",
      "    {\"movement\": \"dumbbell snatches\", \"reps\": 20},\n",
      "    {\"movement\": \"burpee box jump-overs\", \"reps\": 15},\n",
      "    {\"movement\": \"dumbbell snatches\", \"reps\": 30},\n",
      "    {\"movement\": \"burpee box jump-overs\", \"reps\": 15},\n",
      "    {\"movement\": \"dumbbell snatches\", \"reps\": 40},\n",
      "    {\"movement\": \"burpee box jump-overs\", \"reps\": 15},\n",
      "    {\"movement\": \"dumbbell snatches\", \"reps\": 50},\n",
      "    {\"movement\": \"burpee box jump-overs\", \"reps\": 15}\n",
      "]\n"
     ]
    }
   ],
   "source": [
    "print(description)\n",
    "print(result)"
   ]
  },
  {
   "cell_type": "code",
   "execution_count": 29,
   "metadata": {},
   "outputs": [
    {
     "data": {
      "text/plain": [
       "[{'movement': 'thrusters', 'reps': 9, 'weight': 95},\n",
       " {'movement': 'double-unders', 'reps': 35},\n",
       " {'movement': 'thrusters', 'reps': 9, 'weight': 95},\n",
       " {'movement': 'double-unders', 'reps': 35},\n",
       " {'movement': 'thrusters', 'reps': 9, 'weight': 95},\n",
       " {'movement': 'double-unders', 'reps': 35},\n",
       " {'movement': 'thrusters', 'reps': 9, 'weight': 95},\n",
       " {'movement': 'double-unders', 'reps': 35},\n",
       " {'movement': 'thrusters', 'reps': 9, 'weight': 95},\n",
       " {'movement': 'double-unders', 'reps': 35},\n",
       " {'movement': 'thrusters', 'reps': 9, 'weight': 95},\n",
       " {'movement': 'double-unders', 'reps': 35},\n",
       " {'movement': 'thrusters', 'reps': 9, 'weight': 95},\n",
       " {'movement': 'double-unders', 'reps': 35},\n",
       " {'movement': 'thrusters', 'reps': 9, 'weight': 95},\n",
       " {'movement': 'double-unders', 'reps': 35},\n",
       " {'movement': 'thrusters', 'reps': 9, 'weight': 95},\n",
       " {'movement': 'double-unders', 'reps': 35},\n",
       " {'movement': 'thrusters', 'reps': 9, 'weight': 95},\n",
       " {'movement': 'double-unders', 'reps': 35}]"
      ]
     },
     "execution_count": 29,
     "metadata": {},
     "output_type": "execute_result"
    }
   ],
   "source": [
    "workout_descriptions[\"17.4\"]['breakdown']"
   ]
  },
  {
   "cell_type": "code",
   "execution_count": null,
   "metadata": {},
   "outputs": [],
   "source": []
  }
 ],
 "metadata": {
  "kernelspec": {
   "display_name": "wod_project",
   "language": "python",
   "name": "python3"
  },
  "language_info": {
   "codemirror_mode": {
    "name": "ipython",
    "version": 3
   },
   "file_extension": ".py",
   "mimetype": "text/x-python",
   "name": "python",
   "nbconvert_exporter": "python",
   "pygments_lexer": "ipython3",
   "version": "3.12.1"
  }
 },
 "nbformat": 4,
 "nbformat_minor": 2
}
