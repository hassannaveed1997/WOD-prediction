{
 "cells": [
  {
   "cell_type": "code",
   "execution_count": null,
   "metadata": {},
   "outputs": [],
   "source": [
    "import pandas as pd\n",
    "import numpy as np\n",
    "# to use preprocessing functions, add the path to current folder\n",
    "import sys\n",
    "from wod_predictor.feature_engineering_parts.helpers import convert_units"
   ]
  },
  {
   "cell_type": "code",
   "execution_count": null,
   "metadata": {},
   "outputs": [],
   "source": [
    "df = pd.read_csv('benchmark_stats_scraped.csv')\n",
    "# show a few with fully populated columns\n",
    "non_empty = df['Back Squat'].notna()\n",
    "df[non_empty].head()"
   ]
  },
  {
   "cell_type": "code",
   "execution_count": 3,
   "metadata": {},
   "outputs": [],
   "source": [
    "df = df.replace(\"--\", np.nan)\n"
   ]
  },
  {
   "cell_type": "code",
   "execution_count": 14,
   "metadata": {},
   "outputs": [],
   "source": [
    "exercise_cols = ['Back Squat', 'Chad1000x', 'Clean and Jerk',\n",
    "       'Deadlift', 'Fight Gone Bad', 'Filthy 50', 'Fran', 'Grace', 'Helen',\n",
    "       'L1 Benchmark', 'Max Pull-ups', 'Run 5k', 'Snatch', 'Sprint 400m']"
   ]
  },
  {
   "cell_type": "markdown",
   "metadata": {},
   "source": [
    "## Convert data types"
   ]
  },
  {
   "cell_type": "code",
   "execution_count": null,
   "metadata": {},
   "outputs": [],
   "source": [
    "# convert weight columns to float (in lb)\n",
    "df = convert_units(df,type =  'weight', columns=[\"Deadlift\", \"Clean and Jerk\",\"Back Squat\",\"Snatch\"])\n",
    "df[non_empty].head()"
   ]
  },
  {
   "cell_type": "code",
   "execution_count": null,
   "metadata": {},
   "outputs": [],
   "source": [
    "# convert time columns\n",
    "def convert_to_timedelta_single(x):\n",
    "    if pd.isnull(x):\n",
    "        return pd.NaT\n",
    "    if not isinstance(x, str):\n",
    "        print(x)\n",
    "        return pd.NaT\n",
    "    # get last 5 characters (anything bigger is an error)\n",
    "    try:\n",
    "        x = x[-5:]\n",
    "        full_str = \"00:00:00\"\n",
    "        x = full_str[0:(8-len(x))] + x\n",
    "\n",
    "        return pd.Timedelta(x)\n",
    "    except:\n",
    "        print(x)\n",
    "        return pd.NaT\n",
    "\n",
    "def convert_to_seconds(df, columns = None):\n",
    "    if columns is None:\n",
    "        columns = df.columns\n",
    "    \n",
    "    for col in columns:\n",
    "        # if its an object or string\n",
    "        if df[col].dtype == 'O':\n",
    "            df[col] = df[col].apply(convert_to_timedelta_single)\n",
    "            df[col] = df[col].dt.total_seconds()\n",
    "    return df\n",
    "time_cols = [\"Fran\",'Helen','Grace', 'Filthy 50', 'Fight Gone Bad', 'Sprint 400m', 'Run 5k','Chad1000x','L1 Benchmark']\n",
    "df = convert_to_seconds(df, columns = time_cols)\n",
    "df[non_empty].head()"
   ]
  },
  {
   "cell_type": "code",
   "execution_count": 28,
   "metadata": {},
   "outputs": [],
   "source": [
    "# convert reps to int\n",
    "df['Max Pull-ups'] = df['Max Pull-ups'].astype(float)"
   ]
  },
  {
   "cell_type": "markdown",
   "metadata": {},
   "source": [
    "## Sanity checking data"
   ]
  },
  {
   "cell_type": "code",
   "execution_count": null,
   "metadata": {},
   "outputs": [],
   "source": [
    "for col in exercise_cols:\n",
    "    print(f\"col {col} : {df.loc[:,col].unique()[:10]}\")\n",
    "\n",
    "# print any that are not numbers\n",
    "for col in exercise_cols:\n",
    "   if df[col].dtype == 'O':\n",
    "       print(f\"NON numeric col {col}\")"
   ]
  },
  {
   "cell_type": "code",
   "execution_count": null,
   "metadata": {},
   "outputs": [],
   "source": [
    "df[exercise_cols].mean(axis = 0)"
   ]
  },
  {
   "cell_type": "markdown",
   "metadata": {},
   "source": [
    "## Save cleaned dataset to file"
   ]
  },
  {
   "cell_type": "code",
   "execution_count": null,
   "metadata": {},
   "outputs": [],
   "source": [
    "# load old data\n",
    "old_cleaned = pd.read_csv(\"/Users/hassan/Documents/wod-prediction/WOD-prediction/Data/benchmark_stats/Benchmark_stats_cleaned.csv\")\n",
    "old_cleaned.shape"
   ]
  },
  {
   "cell_type": "code",
   "execution_count": null,
   "metadata": {},
   "outputs": [],
   "source": [
    "# combine the two dataframes\n",
    "combined_df = pd.concat([old_cleaned,df], axis = 0)\n",
    "# drop duplicates\n",
    "combined_df = combined_df.drop_duplicates()\n",
    "combined_df.head()"
   ]
  },
  {
   "cell_type": "code",
   "execution_count": 46,
   "metadata": {},
   "outputs": [],
   "source": [
    "# overwrite old data\n",
    "combined_df.to_csv(\"/Users/hassan/Documents/wod-prediction/WOD-prediction/Data/benchmark_stats/Benchmark_stats_cleaned.csv\", index = False)"
   ]
  }
 ],
 "metadata": {
  "kernelspec": {
   "display_name": "wod_project",
   "language": "python",
   "name": "python3"
  },
  "language_info": {
   "codemirror_mode": {
    "name": "ipython",
    "version": 3
   },
   "file_extension": ".py",
   "mimetype": "text/x-python",
   "name": "python",
   "nbconvert_exporter": "python",
   "pygments_lexer": "ipython3",
   "version": "3.12.1"
  }
 },
 "nbformat": 4,
 "nbformat_minor": 2
}
