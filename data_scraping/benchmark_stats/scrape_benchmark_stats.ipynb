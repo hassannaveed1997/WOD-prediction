{
 "cells": [
  {
   "cell_type": "code",
   "execution_count": 30,
   "metadata": {},
   "outputs": [],
   "source": [
    "\n",
    "from helpers import retrieve_benchmark_info\n",
    "from tqdm import tqdm\n",
    "import pandas as pd\n"
   ]
  },
  {
   "cell_type": "code",
   "execution_count": null,
   "metadata": {},
   "outputs": [],
   "source": [
    "import wod_predictor\n",
    "from wod_predictor.data_loader import DataLoader\n",
    "\n",
    "\n",
    "data_path = wod_predictor.__path__[0].replace(\"wod_predictor\", \"Data\")\n",
    "loader = DataLoader(root_path = data_path, objects= ['open_results','descriptions','benchmark_stats',  'athlete_info'])\n",
    "data = loader.load()"
   ]
  },
  {
   "cell_type": "code",
   "execution_count": 32,
   "metadata": {},
   "outputs": [],
   "source": [
    "all_ids = data['athlete_info'].index\n",
    "newly_scraped = pd.read_csv(\"benchmark_stats_scraped.csv\")\n",
    "old_errors = pd.read_csv(\"benchmark_stats_errors.csv\")['0']\n",
    "already_scraped = data['benchmark_stats'].index.union(newly_scraped['athlete_id'])\n",
    "id_not_scraped = all_ids.difference(already_scraped)"
   ]
  },
  {
   "cell_type": "code",
   "execution_count": 33,
   "metadata": {},
   "outputs": [],
   "source": [
    "# find some priorities between the ones that have not been scraped\n",
    "less_errors = id_not_scraped.difference(old_errors)\n",
    "ids_to_scrape = data['open_results'].loc[id_not_scraped].notna().sum(axis=1).sort_values(ascending=False).index"
   ]
  },
  {
   "cell_type": "code",
   "execution_count": 34,
   "metadata": {},
   "outputs": [],
   "source": [
    "import concurrent.futures\n",
    "\n",
    "# Function to scrape multiple athlete IDs in parallel\n",
    "def scrape_athletes_in_parallel(athlete_ids):\n",
    "    results = []\n",
    "    with concurrent.futures.ThreadPoolExecutor() as executor:\n",
    "        # Submit the tasks and get the results\n",
    "        future_to_id = {executor.submit(retrieve_benchmark_info, athlete_id): athlete_id for athlete_id in athlete_ids}\n",
    "        \n",
    "        for future in concurrent.futures.as_completed(future_to_id):\n",
    "            athlete_id = future_to_id[future]\n",
    "            try:\n",
    "                result = future.result()\n",
    "                results.append((athlete_id, result))\n",
    "            except Exception as e:\n",
    "                print(f\"Error fetching data for athlete {athlete_id}: {e}\")\n",
    "    \n",
    "    return results"
   ]
  },
  {
   "cell_type": "code",
   "execution_count": null,
   "metadata": {},
   "outputs": [],
   "source": [
    "benchmark_stats = scrape_athletes_in_parallel(ids_to_scrape[:100])"
   ]
  },
  {
   "cell_type": "code",
   "execution_count": null,
   "metadata": {},
   "outputs": [],
   "source": [
    "benchmark_stats"
   ]
  },
  {
   "cell_type": "code",
   "execution_count": 41,
   "metadata": {},
   "outputs": [],
   "source": [
    "benchmark_stats_df = [x[1] for x in benchmark_stats if isinstance(x[1], dict)]\n",
    "benchmark_stats_df = pd.DataFrame(benchmark_stats_df)\n",
    "\n",
    "benchmark_stats_df = pd.concat([newly_scraped, benchmark_stats_df])\n",
    "benchmark_stats_df.drop_duplicates(subset=['athlete_id'], inplace=True)\n",
    "benchmark_stats_df.to_csv(\"benchmark_stats_scraped.csv\", index=False)"
   ]
  },
  {
   "cell_type": "code",
   "execution_count": 42,
   "metadata": {},
   "outputs": [],
   "source": [
    "errors = [x[0] for x in benchmark_stats if not isinstance(x[1], dict)]\n",
    "errors = pd.Series(errors)\n",
    "errors = pd.concat([errors, old_errors])\n",
    "errors.to_csv(\"benchmark_stats_errors.csv\", index=False)"
   ]
  },
  {
   "cell_type": "code",
   "execution_count": null,
   "metadata": {},
   "outputs": [],
   "source": [
    "benchmark_stats_df"
   ]
  },
  {
   "cell_type": "code",
   "execution_count": null,
   "metadata": {},
   "outputs": [],
   "source": []
  }
 ],
 "metadata": {
  "kernelspec": {
   "display_name": "wod_project",
   "language": "python",
   "name": "python3"
  },
  "language_info": {
   "codemirror_mode": {
    "name": "ipython",
    "version": 3
   },
   "file_extension": ".py",
   "mimetype": "text/x-python",
   "name": "python",
   "nbconvert_exporter": "python",
   "pygments_lexer": "ipython3",
   "version": "3.12.1"
  }
 },
 "nbformat": 4,
 "nbformat_minor": 2
}
